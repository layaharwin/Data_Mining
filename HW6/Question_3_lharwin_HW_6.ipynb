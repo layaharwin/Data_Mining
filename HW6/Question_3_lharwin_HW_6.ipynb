{
 "cells": [
  {
   "cell_type": "markdown",
   "metadata": {
    "id": "SlFRQ3yFGbAM"
   },
   "source": [
    "# Question 3:\n",
    "Using ANN and CNN"
   ]
  },
  {
   "cell_type": "code",
   "execution_count": 40,
   "metadata": {
    "colab": {
     "base_uri": "https://localhost:8080/"
    },
    "id": "Z_tby0Jj8o8z",
    "outputId": "fb6e3d77-3142-4616-86a4-20e546d36a40"
   },
   "outputs": [
    {
     "name": "stdout",
     "output_type": "stream",
     "text": [
      "2.9.2\n"
     ]
    }
   ],
   "source": [
    "# TensorFlow and tf.keras\n",
    "import tensorflow as tf\n",
    "\n",
    "# Helper libraries\n",
    "import numpy as np\n",
    "import matplotlib.pyplot as plt\n",
    "\n",
    "print(tf.__version__)"
   ]
  },
  {
   "cell_type": "code",
   "execution_count": 41,
   "metadata": {
    "id": "8_hudZV-IvAk"
   },
   "outputs": [],
   "source": [
    "fashion_mnist = tf.keras.datasets.fashion_mnist\n",
    "\n",
    "(train_images, train_labels), (test_images, test_labels) = fashion_mnist.load_data()"
   ]
  },
  {
   "cell_type": "code",
   "execution_count": 42,
   "metadata": {
    "id": "RfiSYPA9I5sY"
   },
   "outputs": [],
   "source": [
    "class_names = ['T-shirt/top', 'Trouser', 'Pullover', 'Dress', 'Coat',\n",
    "               'Sandal', 'Shirt', 'Sneaker', 'Bag', 'Ankle boot']"
   ]
  },
  {
   "cell_type": "code",
   "execution_count": 43,
   "metadata": {
    "colab": {
     "base_uri": "https://localhost:8080/"
    },
    "id": "KXYY6hujI-Sa",
    "outputId": "4be715e5-2751-4103-d267-3f3cb5cbc2b3"
   },
   "outputs": [
    {
     "data": {
      "text/plain": [
       "(60000, 28, 28)"
      ]
     },
     "execution_count": 43,
     "metadata": {},
     "output_type": "execute_result"
    }
   ],
   "source": [
    "train_images.shape"
   ]
  },
  {
   "cell_type": "code",
   "execution_count": 44,
   "metadata": {
    "id": "_gFU6xr5JDXq"
   },
   "outputs": [],
   "source": [
    "train_images = train_images / 255.0\n",
    "\n",
    "test_images = test_images / 255.0"
   ]
  },
  {
   "cell_type": "markdown",
   "metadata": {
    "id": "7k2objOo9mx_"
   },
   "source": [
    "## Trying Different values of neurons:"
   ]
  },
  {
   "cell_type": "code",
   "execution_count": 45,
   "metadata": {
    "id": "WdqnAx5zJJo9"
   },
   "outputs": [],
   "source": [
    "model_1 = tf.keras.Sequential([\n",
    "    tf.keras.layers.Flatten(input_shape=(28, 28)),\n",
    "    tf.keras.layers.Dense(128, activation='relu'),\n",
    "    tf.keras.layers.Dense(10)\n",
    "])"
   ]
  },
  {
   "cell_type": "code",
   "execution_count": 46,
   "metadata": {
    "id": "unw8t7eS9ca1"
   },
   "outputs": [],
   "source": [
    "model_2 = tf.keras.Sequential([\n",
    "    tf.keras.layers.Flatten(input_shape=(28, 28)),\n",
    "    tf.keras.layers.Dense(64, activation='relu'),\n",
    "    tf.keras.layers.Dense(10)\n",
    "])"
   ]
  },
  {
   "cell_type": "code",
   "execution_count": 47,
   "metadata": {
    "id": "cwxDZ3aO98Td"
   },
   "outputs": [],
   "source": [
    "model_3 = tf.keras.Sequential([\n",
    "    tf.keras.layers.Flatten(input_shape=(28, 28)),\n",
    "    tf.keras.layers.Dense(32, activation='relu'),\n",
    "    tf.keras.layers.Dense(10)\n",
    "])"
   ]
  },
  {
   "cell_type": "code",
   "execution_count": 48,
   "metadata": {
    "id": "leukK7t-9che"
   },
   "outputs": [],
   "source": [
    "model_4 = tf.keras.Sequential([\n",
    "    tf.keras.layers.Flatten(input_shape=(28, 28)),\n",
    "    tf.keras.layers.Dense(256, activation='relu'),\n",
    "    tf.keras.layers.Dense(10)\n",
    "])"
   ]
  },
  {
   "cell_type": "code",
   "execution_count": 49,
   "metadata": {
    "id": "DsjfVuXB-TC8"
   },
   "outputs": [],
   "source": [
    "models = [model_1, model_2, model_3, model_4]"
   ]
  },
  {
   "cell_type": "code",
   "execution_count": 50,
   "metadata": {
    "colab": {
     "base_uri": "https://localhost:8080/"
    },
    "id": "ug3pxPgz92uZ",
    "outputId": "e9c34a31-4adc-477f-a4f1-0f64520bfb27"
   },
   "outputs": [
    {
     "name": "stdout",
     "output_type": "stream",
     "text": [
      "Training Model:  <keras.engine.sequential.Sequential object at 0x7fcd36596cd0>\n",
      "Epoch 1/10\n",
      "1875/1875 [==============================] - 5s 2ms/step - loss: 0.4992 - accuracy: 0.8238\n",
      "Epoch 2/10\n",
      "1875/1875 [==============================] - 4s 2ms/step - loss: 0.3768 - accuracy: 0.8643\n",
      "Epoch 3/10\n",
      "1875/1875 [==============================] - 4s 2ms/step - loss: 0.3385 - accuracy: 0.8756\n",
      "Epoch 4/10\n",
      "1875/1875 [==============================] - 4s 2ms/step - loss: 0.3121 - accuracy: 0.8854\n",
      "Epoch 5/10\n",
      "1875/1875 [==============================] - 4s 2ms/step - loss: 0.2967 - accuracy: 0.8908\n",
      "Epoch 6/10\n",
      "1875/1875 [==============================] - 4s 2ms/step - loss: 0.2838 - accuracy: 0.8953\n",
      "Epoch 7/10\n",
      "1875/1875 [==============================] - 4s 2ms/step - loss: 0.2692 - accuracy: 0.9002\n",
      "Epoch 8/10\n",
      "1875/1875 [==============================] - 4s 2ms/step - loss: 0.2575 - accuracy: 0.9046\n",
      "Epoch 9/10\n",
      "1875/1875 [==============================] - 4s 2ms/step - loss: 0.2499 - accuracy: 0.9071\n",
      "Epoch 10/10\n",
      "1875/1875 [==============================] - 4s 2ms/step - loss: 0.2418 - accuracy: 0.9091\n",
      "313/313 - 1s - loss: 0.3323 - accuracy: 0.8839 - 626ms/epoch - 2ms/step\n",
      "\n",
      "Test accuracy: 0.883899986743927\n",
      "313/313 [==============================] - 0s 1ms/step\n",
      "Training Model:  <keras.engine.sequential.Sequential object at 0x7fcd36405250>\n",
      "Epoch 1/10\n",
      "1875/1875 [==============================] - 4s 2ms/step - loss: 0.5235 - accuracy: 0.8177\n",
      "Epoch 2/10\n",
      "1875/1875 [==============================] - 4s 2ms/step - loss: 0.3989 - accuracy: 0.8578\n",
      "Epoch 3/10\n",
      "1875/1875 [==============================] - 4s 2ms/step - loss: 0.3572 - accuracy: 0.8712\n",
      "Epoch 4/10\n",
      "1875/1875 [==============================] - 4s 2ms/step - loss: 0.3323 - accuracy: 0.8802\n",
      "Epoch 5/10\n",
      "1875/1875 [==============================] - 4s 2ms/step - loss: 0.3160 - accuracy: 0.8846\n",
      "Epoch 6/10\n",
      "1875/1875 [==============================] - 4s 2ms/step - loss: 0.2995 - accuracy: 0.8899\n",
      "Epoch 7/10\n",
      "1875/1875 [==============================] - 4s 2ms/step - loss: 0.2898 - accuracy: 0.8932\n",
      "Epoch 8/10\n",
      "1875/1875 [==============================] - 4s 2ms/step - loss: 0.2771 - accuracy: 0.8978\n",
      "Epoch 9/10\n",
      "1875/1875 [==============================] - 4s 2ms/step - loss: 0.2705 - accuracy: 0.9006\n",
      "Epoch 10/10\n",
      "1875/1875 [==============================] - 4s 2ms/step - loss: 0.2614 - accuracy: 0.9037\n",
      "313/313 - 1s - loss: 0.3704 - accuracy: 0.8685 - 614ms/epoch - 2ms/step\n",
      "\n",
      "Test accuracy: 0.8684999942779541\n",
      "313/313 [==============================] - 0s 1ms/step\n",
      "Training Model:  <keras.engine.sequential.Sequential object at 0x7fcd36412e50>\n",
      "Epoch 1/10\n",
      "1875/1875 [==============================] - 4s 2ms/step - loss: 0.5478 - accuracy: 0.8102\n",
      "Epoch 2/10\n",
      "1875/1875 [==============================] - 4s 2ms/step - loss: 0.4136 - accuracy: 0.8555\n",
      "Epoch 3/10\n",
      "1875/1875 [==============================] - 4s 2ms/step - loss: 0.3794 - accuracy: 0.8648\n",
      "Epoch 4/10\n",
      "1875/1875 [==============================] - 4s 2ms/step - loss: 0.3578 - accuracy: 0.8725\n",
      "Epoch 5/10\n",
      "1875/1875 [==============================] - 4s 2ms/step - loss: 0.3399 - accuracy: 0.8775\n",
      "Epoch 6/10\n",
      "1875/1875 [==============================] - 4s 2ms/step - loss: 0.3276 - accuracy: 0.8816\n",
      "Epoch 7/10\n",
      "1875/1875 [==============================] - 4s 2ms/step - loss: 0.3154 - accuracy: 0.8854\n",
      "Epoch 8/10\n",
      "1875/1875 [==============================] - 4s 2ms/step - loss: 0.3060 - accuracy: 0.8882\n",
      "Epoch 9/10\n",
      "1875/1875 [==============================] - 4s 2ms/step - loss: 0.2976 - accuracy: 0.8917\n",
      "Epoch 10/10\n",
      "1875/1875 [==============================] - 4s 2ms/step - loss: 0.2908 - accuracy: 0.8941\n",
      "313/313 - 1s - loss: 0.3662 - accuracy: 0.8719 - 620ms/epoch - 2ms/step\n",
      "\n",
      "Test accuracy: 0.8719000220298767\n",
      "313/313 [==============================] - 0s 1ms/step\n",
      "Training Model:  <keras.engine.sequential.Sequential object at 0x7fcd364259d0>\n",
      "Epoch 1/10\n",
      "1875/1875 [==============================] - 4s 2ms/step - loss: 0.4811 - accuracy: 0.8288\n",
      "Epoch 2/10\n",
      "1875/1875 [==============================] - 4s 2ms/step - loss: 0.3675 - accuracy: 0.8660\n",
      "Epoch 3/10\n",
      "1875/1875 [==============================] - 4s 2ms/step - loss: 0.3281 - accuracy: 0.8803\n",
      "Epoch 4/10\n",
      "1875/1875 [==============================] - 4s 2ms/step - loss: 0.3037 - accuracy: 0.8883\n",
      "Epoch 5/10\n",
      "1875/1875 [==============================] - 4s 2ms/step - loss: 0.2847 - accuracy: 0.8943\n",
      "Epoch 6/10\n",
      "1875/1875 [==============================] - 4s 2ms/step - loss: 0.2697 - accuracy: 0.8994\n",
      "Epoch 7/10\n",
      "1875/1875 [==============================] - 4s 2ms/step - loss: 0.2599 - accuracy: 0.9028\n",
      "Epoch 8/10\n",
      "1875/1875 [==============================] - 5s 3ms/step - loss: 0.2481 - accuracy: 0.9060\n",
      "Epoch 9/10\n",
      "1875/1875 [==============================] - 4s 2ms/step - loss: 0.2374 - accuracy: 0.9113\n",
      "Epoch 10/10\n",
      "1875/1875 [==============================] - 4s 2ms/step - loss: 0.2268 - accuracy: 0.9164\n",
      "313/313 - 1s - loss: 0.3381 - accuracy: 0.8822 - 649ms/epoch - 2ms/step\n",
      "\n",
      "Test accuracy: 0.8822000026702881\n",
      "313/313 [==============================] - 0s 1ms/step\n"
     ]
    }
   ],
   "source": [
    "\n",
    "for model in models:\n",
    "  model.compile(optimizer='adam',\n",
    "              loss=tf.keras.losses.SparseCategoricalCrossentropy(from_logits=True),\n",
    "              metrics=['accuracy'])\n",
    "  print(\"Training Model: \", model)\n",
    "  model.fit(train_images, train_labels, epochs=10)\n",
    "  test_loss, test_acc = model.evaluate(test_images,  test_labels, verbose=2)\n",
    "  print('\\nTest accuracy:', test_acc)\n",
    "  probability_model = tf.keras.Sequential([model, \n",
    "                                         tf.keras.layers.Softmax()])\n",
    "  predictions = probability_model.predict(test_images)\n",
    "  predictions[0]"
   ]
  },
  {
   "cell_type": "markdown",
   "metadata": {
    "id": "G7JW4Nt4BFK3"
   },
   "source": [
    "## Trying dropout layer with different values"
   ]
  },
  {
   "cell_type": "code",
   "execution_count": 51,
   "metadata": {
    "id": "qzA98nxW9QJH"
   },
   "outputs": [],
   "source": [
    "model_5 = tf.keras.Sequential([\n",
    "    tf.keras.layers.Flatten(input_shape=(28, 28)),\n",
    "    tf.keras.layers.Dense(128, activation='relu'),\n",
    "    tf.keras.layers.Dropout(0.2),\n",
    "    tf.keras.layers.Dense(10)\n",
    "])"
   ]
  },
  {
   "cell_type": "code",
   "execution_count": 52,
   "metadata": {
    "id": "7lbYgs5cBVrC"
   },
   "outputs": [],
   "source": [
    "model_6 = tf.keras.Sequential([\n",
    "    tf.keras.layers.Flatten(input_shape=(28, 28)),\n",
    "    tf.keras.layers.Dense(128, activation='relu'),\n",
    "    tf.keras.layers.Dropout(0.3),\n",
    "    tf.keras.layers.Dense(10)\n",
    "])"
   ]
  },
  {
   "cell_type": "code",
   "execution_count": 53,
   "metadata": {
    "id": "JhnUpr7gBVtq"
   },
   "outputs": [],
   "source": [
    "model_7 = tf.keras.Sequential([\n",
    "    tf.keras.layers.Flatten(input_shape=(28, 28)),\n",
    "    tf.keras.layers.Dense(128, activation='relu'),\n",
    "    tf.keras.layers.Dropout(0.4),\n",
    "    tf.keras.layers.Dense(10)\n",
    "])"
   ]
  },
  {
   "cell_type": "code",
   "execution_count": 54,
   "metadata": {
    "id": "3rIpUENDB37F"
   },
   "outputs": [],
   "source": [
    "model_8 = tf.keras.Sequential([\n",
    "    tf.keras.layers.Flatten(input_shape=(28, 28)),\n",
    "    tf.keras.layers.Dense(256, activation='relu'),\n",
    "    tf.keras.layers.Dropout(0.2),\n",
    "    tf.keras.layers.Dense(10)\n",
    "])"
   ]
  },
  {
   "cell_type": "code",
   "execution_count": 55,
   "metadata": {
    "id": "iysqVLc3B7Kh"
   },
   "outputs": [],
   "source": [
    "model_9 = tf.keras.Sequential([\n",
    "    tf.keras.layers.Flatten(input_shape=(28, 28)),\n",
    "    tf.keras.layers.Dense(256, activation='relu'),\n",
    "    tf.keras.layers.Dropout(0.3),\n",
    "    tf.keras.layers.Dense(10)\n",
    "])"
   ]
  },
  {
   "cell_type": "code",
   "execution_count": 56,
   "metadata": {
    "colab": {
     "base_uri": "https://localhost:8080/"
    },
    "id": "GP78Q2W2BVuU",
    "outputId": "43a05ee1-1e29-461a-faf6-c074ced39d84"
   },
   "outputs": [
    {
     "name": "stdout",
     "output_type": "stream",
     "text": [
      "Training Model:  <keras.engine.sequential.Sequential object at 0x7fcd12738990>\n",
      "Epoch 1/10\n",
      "1875/1875 [==============================] - 5s 2ms/step - loss: 0.5298 - accuracy: 0.8118\n",
      "Epoch 2/10\n",
      "1875/1875 [==============================] - 4s 2ms/step - loss: 0.3973 - accuracy: 0.8573\n",
      "Epoch 3/10\n",
      "1875/1875 [==============================] - 4s 2ms/step - loss: 0.3637 - accuracy: 0.8657\n",
      "Epoch 4/10\n",
      "1875/1875 [==============================] - 4s 2ms/step - loss: 0.3432 - accuracy: 0.8734\n",
      "Epoch 5/10\n",
      "1875/1875 [==============================] - 4s 2ms/step - loss: 0.3293 - accuracy: 0.8788\n",
      "Epoch 6/10\n",
      "1875/1875 [==============================] - 4s 2ms/step - loss: 0.3191 - accuracy: 0.8822\n",
      "Epoch 7/10\n",
      "1875/1875 [==============================] - 4s 2ms/step - loss: 0.3082 - accuracy: 0.8849\n",
      "Epoch 8/10\n",
      "1875/1875 [==============================] - 4s 2ms/step - loss: 0.2990 - accuracy: 0.8888\n",
      "Epoch 9/10\n",
      "1875/1875 [==============================] - 4s 2ms/step - loss: 0.2902 - accuracy: 0.8900\n",
      "Epoch 10/10\n",
      "1875/1875 [==============================] - 4s 2ms/step - loss: 0.2868 - accuracy: 0.8944\n",
      "313/313 - 1s - loss: 0.3381 - accuracy: 0.8803 - 653ms/epoch - 2ms/step\n",
      "\n",
      "Test accuracy: 0.880299985408783\n",
      "313/313 [==============================] - 0s 1ms/step\n",
      "Training Model:  <keras.engine.sequential.Sequential object at 0x7fcd126f50d0>\n",
      "Epoch 1/10\n",
      "1875/1875 [==============================] - 5s 3ms/step - loss: 0.5594 - accuracy: 0.8032\n",
      "Epoch 2/10\n",
      "1875/1875 [==============================] - 4s 2ms/step - loss: 0.4203 - accuracy: 0.8475\n",
      "Epoch 3/10\n",
      "1875/1875 [==============================] - 4s 2ms/step - loss: 0.3852 - accuracy: 0.8593\n",
      "Epoch 4/10\n",
      "1875/1875 [==============================] - 4s 2ms/step - loss: 0.3646 - accuracy: 0.8658\n",
      "Epoch 5/10\n",
      "1875/1875 [==============================] - 4s 2ms/step - loss: 0.3481 - accuracy: 0.8724\n",
      "Epoch 6/10\n",
      "1875/1875 [==============================] - 4s 2ms/step - loss: 0.3363 - accuracy: 0.8764\n",
      "Epoch 7/10\n",
      "1875/1875 [==============================] - 4s 2ms/step - loss: 0.3264 - accuracy: 0.8792\n",
      "Epoch 8/10\n",
      "1875/1875 [==============================] - 4s 2ms/step - loss: 0.3168 - accuracy: 0.8820\n",
      "Epoch 9/10\n",
      "1875/1875 [==============================] - 4s 2ms/step - loss: 0.3105 - accuracy: 0.8845\n",
      "Epoch 10/10\n",
      "1875/1875 [==============================] - 4s 2ms/step - loss: 0.3040 - accuracy: 0.8874\n",
      "313/313 - 1s - loss: 0.3473 - accuracy: 0.8735 - 620ms/epoch - 2ms/step\n",
      "\n",
      "Test accuracy: 0.8734999895095825\n",
      "313/313 [==============================] - 0s 1ms/step\n",
      "Training Model:  <keras.engine.sequential.Sequential object at 0x7fcd1268aed0>\n",
      "Epoch 1/10\n",
      "1875/1875 [==============================] - 5s 2ms/step - loss: 0.5801 - accuracy: 0.7930\n",
      "Epoch 2/10\n",
      "1875/1875 [==============================] - 4s 2ms/step - loss: 0.4428 - accuracy: 0.8403\n",
      "Epoch 3/10\n",
      "1875/1875 [==============================] - 4s 2ms/step - loss: 0.4111 - accuracy: 0.8500\n",
      "Epoch 4/10\n",
      "1875/1875 [==============================] - 4s 2ms/step - loss: 0.3921 - accuracy: 0.8576\n",
      "Epoch 5/10\n",
      "1875/1875 [==============================] - 4s 2ms/step - loss: 0.3776 - accuracy: 0.8613\n",
      "Epoch 6/10\n",
      "1875/1875 [==============================] - 4s 2ms/step - loss: 0.3662 - accuracy: 0.8663\n",
      "Epoch 7/10\n",
      "1875/1875 [==============================] - 4s 2ms/step - loss: 0.3563 - accuracy: 0.8682\n",
      "Epoch 8/10\n",
      "1875/1875 [==============================] - 4s 2ms/step - loss: 0.3510 - accuracy: 0.8717\n",
      "Epoch 9/10\n",
      "1875/1875 [==============================] - 4s 2ms/step - loss: 0.3404 - accuracy: 0.8723\n",
      "Epoch 10/10\n",
      "1875/1875 [==============================] - 4s 2ms/step - loss: 0.3362 - accuracy: 0.8747\n",
      "313/313 - 1s - loss: 0.3734 - accuracy: 0.8645 - 640ms/epoch - 2ms/step\n",
      "\n",
      "Test accuracy: 0.8644999861717224\n",
      "313/313 [==============================] - 0s 1ms/step\n",
      "Training Model:  <keras.engine.sequential.Sequential object at 0x7fcd126a1ed0>\n",
      "Epoch 1/10\n",
      "1875/1875 [==============================] - 5s 2ms/step - loss: 0.5105 - accuracy: 0.8169\n",
      "Epoch 2/10\n",
      "1875/1875 [==============================] - 4s 2ms/step - loss: 0.3880 - accuracy: 0.8584\n",
      "Epoch 3/10\n",
      "1875/1875 [==============================] - 4s 2ms/step - loss: 0.3548 - accuracy: 0.8692\n",
      "Epoch 4/10\n",
      "1875/1875 [==============================] - 4s 2ms/step - loss: 0.3308 - accuracy: 0.8779\n",
      "Epoch 5/10\n",
      "1875/1875 [==============================] - 4s 2ms/step - loss: 0.3192 - accuracy: 0.8826\n",
      "Epoch 6/10\n",
      "1875/1875 [==============================] - 4s 2ms/step - loss: 0.3057 - accuracy: 0.8870\n",
      "Epoch 7/10\n",
      "1875/1875 [==============================] - 4s 2ms/step - loss: 0.2933 - accuracy: 0.8906\n",
      "Epoch 8/10\n",
      "1875/1875 [==============================] - 4s 2ms/step - loss: 0.2847 - accuracy: 0.8946\n",
      "Epoch 9/10\n",
      "1875/1875 [==============================] - 4s 2ms/step - loss: 0.2783 - accuracy: 0.8961\n",
      "Epoch 10/10\n",
      "1875/1875 [==============================] - 4s 2ms/step - loss: 0.2684 - accuracy: 0.8988\n",
      "313/313 - 1s - loss: 0.3254 - accuracy: 0.8836 - 656ms/epoch - 2ms/step\n",
      "\n",
      "Test accuracy: 0.8835999965667725\n",
      "313/313 [==============================] - 0s 1ms/step\n",
      "Training Model:  <keras.engine.sequential.Sequential object at 0x7fcd126b4cd0>\n",
      "Epoch 1/10\n",
      "1875/1875 [==============================] - 5s 2ms/step - loss: 0.5273 - accuracy: 0.8141\n",
      "Epoch 2/10\n",
      "1875/1875 [==============================] - 4s 2ms/step - loss: 0.4024 - accuracy: 0.8533\n",
      "Epoch 3/10\n",
      "1875/1875 [==============================] - 4s 2ms/step - loss: 0.3703 - accuracy: 0.8633\n",
      "Epoch 4/10\n",
      "1875/1875 [==============================] - 4s 2ms/step - loss: 0.3521 - accuracy: 0.8704\n",
      "Epoch 5/10\n",
      "1875/1875 [==============================] - 4s 2ms/step - loss: 0.3353 - accuracy: 0.8766\n",
      "Epoch 6/10\n",
      "1875/1875 [==============================] - 5s 3ms/step - loss: 0.3247 - accuracy: 0.8790\n",
      "Epoch 7/10\n",
      "1875/1875 [==============================] - 4s 2ms/step - loss: 0.3131 - accuracy: 0.8834\n",
      "Epoch 8/10\n",
      "1875/1875 [==============================] - 4s 2ms/step - loss: 0.3043 - accuracy: 0.8864\n",
      "Epoch 9/10\n",
      "1875/1875 [==============================] - 4s 2ms/step - loss: 0.2987 - accuracy: 0.8888\n",
      "Epoch 10/10\n",
      "1875/1875 [==============================] - 4s 2ms/step - loss: 0.2894 - accuracy: 0.8920\n",
      "313/313 - 1s - loss: 0.3391 - accuracy: 0.8814 - 658ms/epoch - 2ms/step\n",
      "\n",
      "Test accuracy: 0.8813999891281128\n",
      "313/313 [==============================] - 0s 1ms/step\n"
     ]
    }
   ],
   "source": [
    "models=[model_5, model_6, model_7, model_8, model_9]\n",
    "for model in models:\n",
    "  model.compile(optimizer='adam',\n",
    "              loss=tf.keras.losses.SparseCategoricalCrossentropy(from_logits=True),\n",
    "              metrics=['accuracy'])\n",
    "  print(\"Training Model: \", model)\n",
    "  model.fit(train_images, train_labels, epochs=10)\n",
    "  test_loss, test_acc = model.evaluate(test_images,  test_labels, verbose=2)\n",
    "  print('\\nTest accuracy:', test_acc)\n",
    "  probability_model = tf.keras.Sequential([model, \n",
    "                                         tf.keras.layers.Softmax()])\n",
    "  predictions = probability_model.predict(test_images)\n",
    "  predictions[0]"
   ]
  },
  {
   "cell_type": "markdown",
   "metadata": {
    "id": "HX0aXdzoCm0p"
   },
   "source": [
    "## Trying to implement CNN by adding two convolution layers"
   ]
  },
  {
   "cell_type": "code",
   "execution_count": 57,
   "metadata": {
    "id": "8BDhZihwClvb"
   },
   "outputs": [],
   "source": [
    "train_images = tf.reshape(train_images, shape=[-1, 28, 28, 1])"
   ]
  },
  {
   "cell_type": "code",
   "execution_count": 58,
   "metadata": {
    "id": "SYVjK-KE9QQ5"
   },
   "outputs": [],
   "source": [
    "model_10 = tf.keras.Sequential([\n",
    "    tf.keras.layers.Conv2D(32,(3,3),input_shape=(28, 28, 1), data_format=\"channels_last\"),\n",
    "    tf.keras.layers.Conv2D(64, (3, 3), activation='relu'),\n",
    "    tf.keras.layers.Flatten(),\n",
    "    tf.keras.layers.Dense(128, activation='relu'),\n",
    "    tf.keras.layers.Dropout(0.2),\n",
    "    tf.keras.layers.Dense(10)\n",
    "])"
   ]
  },
  {
   "cell_type": "code",
   "execution_count": 59,
   "metadata": {
    "colab": {
     "base_uri": "https://localhost:8080/"
    },
    "id": "6cJxrbe29QX4",
    "outputId": "2e0e1712-c036-420d-c396-c81df8b6d046"
   },
   "outputs": [
    {
     "name": "stdout",
     "output_type": "stream",
     "text": [
      "Training Model:  <keras.engine.sequential.Sequential object at 0x7fcdd00888d0>\n",
      "Epoch 1/10\n",
      "1875/1875 [==============================] - 8s 4ms/step - loss: 0.3913 - accuracy: 0.8618\n",
      "Epoch 2/10\n",
      "1875/1875 [==============================] - 8s 4ms/step - loss: 0.2561 - accuracy: 0.9056\n",
      "Epoch 3/10\n",
      "1875/1875 [==============================] - 8s 4ms/step - loss: 0.1991 - accuracy: 0.9265\n",
      "Epoch 4/10\n",
      "1875/1875 [==============================] - 8s 4ms/step - loss: 0.1583 - accuracy: 0.9404\n",
      "Epoch 5/10\n",
      "1875/1875 [==============================] - 8s 4ms/step - loss: 0.1267 - accuracy: 0.9533\n",
      "Epoch 6/10\n",
      "1875/1875 [==============================] - 8s 4ms/step - loss: 0.1078 - accuracy: 0.9599\n",
      "Epoch 7/10\n",
      "1875/1875 [==============================] - 8s 4ms/step - loss: 0.0901 - accuracy: 0.9672\n",
      "Epoch 8/10\n",
      "1875/1875 [==============================] - 8s 4ms/step - loss: 0.0778 - accuracy: 0.9713\n",
      "Epoch 9/10\n",
      "1875/1875 [==============================] - 8s 4ms/step - loss: 0.0681 - accuracy: 0.9747\n",
      "Epoch 10/10\n",
      "1875/1875 [==============================] - 8s 4ms/step - loss: 0.0624 - accuracy: 0.9775\n",
      "313/313 - 1s - loss: 0.5292 - accuracy: 0.9053 - 829ms/epoch - 3ms/step\n",
      "\n",
      "Test accuracy: 0.9053000211715698\n",
      "313/313 [==============================] - 1s 2ms/step\n"
     ]
    }
   ],
   "source": [
    "models=[model_10]\n",
    "for model in models:\n",
    "  model.compile(optimizer='adam',\n",
    "              loss=tf.keras.losses.SparseCategoricalCrossentropy(from_logits=True),\n",
    "              metrics=['accuracy'])\n",
    "  print(\"Training Model: \", model)\n",
    "  model.fit(train_images, train_labels, epochs=10)\n",
    "  test_loss, test_acc = model.evaluate(test_images,  test_labels, verbose=2)\n",
    "  print('\\nTest accuracy:', test_acc)\n",
    "  probability_model = tf.keras.Sequential([model, \n",
    "                                         tf.keras.layers.Softmax()])\n",
    "  predictions = probability_model.predict(test_images)\n",
    "  predictions[0]"
   ]
  },
  {
   "cell_type": "markdown",
   "metadata": {
    "id": "FOFpW4_0Ejp9"
   },
   "source": [
    "## Testing different number of filters in CNN"
   ]
  },
  {
   "cell_type": "code",
   "execution_count": 60,
   "metadata": {
    "id": "p2qtUR50E1XS"
   },
   "outputs": [],
   "source": [
    "model_11 = tf.keras.Sequential([\n",
    "    tf.keras.layers.Conv2D(64,(3,3),input_shape=(28, 28, 1), data_format=\"channels_last\"),\n",
    "    tf.keras.layers.Conv2D(128, (3, 3), activation='relu'),\n",
    "    tf.keras.layers.Flatten(),\n",
    "    tf.keras.layers.Dense(128, activation='relu'),\n",
    "    tf.keras.layers.Dropout(0.2),\n",
    "    tf.keras.layers.Dense(10)\n",
    "])"
   ]
  },
  {
   "cell_type": "code",
   "execution_count": 61,
   "metadata": {
    "id": "dg68DDlZE5Mg"
   },
   "outputs": [],
   "source": [
    "model_12 = tf.keras.Sequential([\n",
    "    tf.keras.layers.Conv2D(16,(3,3),input_shape=(28, 28, 1), data_format=\"channels_last\"),\n",
    "    tf.keras.layers.Conv2D(32, (3, 3), activation='relu'),\n",
    "    tf.keras.layers.Flatten(),\n",
    "    tf.keras.layers.Dense(128, activation='relu'),\n",
    "    tf.keras.layers.Dropout(0.2),\n",
    "    tf.keras.layers.Dense(10)\n",
    "])"
   ]
  },
  {
   "cell_type": "code",
   "execution_count": 62,
   "metadata": {
    "colab": {
     "base_uri": "https://localhost:8080/"
    },
    "id": "RYP2FYViE5Sy",
    "outputId": "089b3886-7e88-4a11-9b0c-ad99e151a6ac"
   },
   "outputs": [
    {
     "name": "stdout",
     "output_type": "stream",
     "text": [
      "Training Model:  <keras.engine.sequential.Sequential object at 0x7fcd7c31ddd0>\n",
      "Epoch 1/10\n",
      "1875/1875 [==============================] - 12s 6ms/step - loss: 0.4015 - accuracy: 0.8582\n",
      "Epoch 2/10\n",
      "1875/1875 [==============================] - 12s 6ms/step - loss: 0.2650 - accuracy: 0.9019\n",
      "Epoch 3/10\n",
      "1875/1875 [==============================] - 12s 6ms/step - loss: 0.2073 - accuracy: 0.9228\n",
      "Epoch 4/10\n",
      "1875/1875 [==============================] - 12s 6ms/step - loss: 0.1650 - accuracy: 0.9381\n",
      "Epoch 5/10\n",
      "1875/1875 [==============================] - 12s 6ms/step - loss: 0.1378 - accuracy: 0.9490\n",
      "Epoch 6/10\n",
      "1875/1875 [==============================] - 12s 6ms/step - loss: 0.1104 - accuracy: 0.9581\n",
      "Epoch 7/10\n",
      "1875/1875 [==============================] - 12s 6ms/step - loss: 0.0954 - accuracy: 0.9646\n",
      "Epoch 8/10\n",
      "1875/1875 [==============================] - 12s 6ms/step - loss: 0.0822 - accuracy: 0.9692\n",
      "Epoch 9/10\n",
      "1875/1875 [==============================] - 12s 6ms/step - loss: 0.0763 - accuracy: 0.9725\n",
      "Epoch 10/10\n",
      "1875/1875 [==============================] - 12s 6ms/step - loss: 0.0666 - accuracy: 0.9766\n",
      "313/313 - 1s - loss: 0.5670 - accuracy: 0.8990 - 965ms/epoch - 3ms/step\n",
      "\n",
      "Test accuracy: 0.8989999890327454\n",
      "313/313 [==============================] - 1s 2ms/step\n",
      "Training Model:  <keras.engine.sequential.Sequential object at 0x7fcd7c412d90>\n",
      "Epoch 1/10\n",
      "1875/1875 [==============================] - 7s 3ms/step - loss: 0.3965 - accuracy: 0.8564\n",
      "Epoch 2/10\n",
      "1875/1875 [==============================] - 6s 3ms/step - loss: 0.2561 - accuracy: 0.9058\n",
      "Epoch 3/10\n",
      "1875/1875 [==============================] - 6s 3ms/step - loss: 0.2025 - accuracy: 0.9246\n",
      "Epoch 4/10\n",
      "1875/1875 [==============================] - 6s 3ms/step - loss: 0.1589 - accuracy: 0.9409\n",
      "Epoch 5/10\n",
      "1875/1875 [==============================] - 6s 3ms/step - loss: 0.1329 - accuracy: 0.9508\n",
      "Epoch 6/10\n",
      "1875/1875 [==============================] - 6s 3ms/step - loss: 0.1050 - accuracy: 0.9607\n",
      "Epoch 7/10\n",
      "1875/1875 [==============================] - 6s 3ms/step - loss: 0.0919 - accuracy: 0.9660\n",
      "Epoch 8/10\n",
      "1875/1875 [==============================] - 6s 3ms/step - loss: 0.0776 - accuracy: 0.9716\n",
      "Epoch 9/10\n",
      "1875/1875 [==============================] - 6s 3ms/step - loss: 0.0685 - accuracy: 0.9754\n",
      "Epoch 10/10\n",
      "1875/1875 [==============================] - 6s 3ms/step - loss: 0.0608 - accuracy: 0.9779\n",
      "313/313 - 1s - loss: 0.4163 - accuracy: 0.9039 - 741ms/epoch - 2ms/step\n",
      "\n",
      "Test accuracy: 0.9039000272750854\n",
      "313/313 [==============================] - 1s 2ms/step\n"
     ]
    }
   ],
   "source": [
    "models=[model_11, model_12]\n",
    "for model in models:\n",
    "  model.compile(optimizer='adam',\n",
    "              loss=tf.keras.losses.SparseCategoricalCrossentropy(from_logits=True),\n",
    "              metrics=['accuracy'])\n",
    "  print(\"Training Model: \", model)\n",
    "  model.fit(train_images, train_labels, epochs=10)\n",
    "  test_loss, test_acc = model.evaluate(test_images,  test_labels, verbose=2)\n",
    "  print('\\nTest accuracy:', test_acc)\n",
    "  probability_model = tf.keras.Sequential([model, \n",
    "                                         tf.keras.layers.Softmax()])\n",
    "  predictions = probability_model.predict(test_images)\n",
    "  predictions[0]"
   ]
  },
  {
   "cell_type": "code",
   "execution_count": 62,
   "metadata": {
    "id": "14aNYoXGE5eK"
   },
   "outputs": [],
   "source": []
  },
  {
   "cell_type": "markdown",
   "metadata": {
    "id": "0ax6FEkWFO4L"
   },
   "source": [
    "## Testing different size of filters in CNN"
   ]
  },
  {
   "cell_type": "code",
   "execution_count": 63,
   "metadata": {
    "id": "WXHU82P5E5hD"
   },
   "outputs": [],
   "source": [
    "model_13 = tf.keras.Sequential([\n",
    "    tf.keras.layers.Conv2D(32,(5,5),input_shape=(28, 28, 1), data_format=\"channels_last\"),\n",
    "    tf.keras.layers.Conv2D(64, (5, 5), activation='relu'),\n",
    "    tf.keras.layers.Flatten(),\n",
    "    tf.keras.layers.Dense(128, activation='relu'),\n",
    "    tf.keras.layers.Dropout(0.2),\n",
    "    tf.keras.layers.Dense(10)\n",
    "])"
   ]
  },
  {
   "cell_type": "code",
   "execution_count": 64,
   "metadata": {
    "id": "YH32j3I5E5ki"
   },
   "outputs": [],
   "source": [
    "model_14 = tf.keras.Sequential([\n",
    "    tf.keras.layers.Conv2D(32,(7,7),input_shape=(28, 28, 1), data_format=\"channels_last\"),\n",
    "    tf.keras.layers.Conv2D(64, (7, 7), activation='relu'),\n",
    "    tf.keras.layers.Flatten(),\n",
    "    tf.keras.layers.Dense(128, activation='relu'),\n",
    "    tf.keras.layers.Dropout(0.2),\n",
    "    tf.keras.layers.Dense(10)\n",
    "])"
   ]
  },
  {
   "cell_type": "code",
   "execution_count": 65,
   "metadata": {
    "colab": {
     "base_uri": "https://localhost:8080/"
    },
    "id": "9koO1VuPGEP7",
    "outputId": "8421cb89-7218-4152-92a4-78f986f623bd"
   },
   "outputs": [
    {
     "name": "stdout",
     "output_type": "stream",
     "text": [
      "Training Model:  <keras.engine.sequential.Sequential object at 0x7fcd7c4cfe50>\n",
      "Epoch 1/10\n",
      "1875/1875 [==============================] - 8s 4ms/step - loss: 0.4291 - accuracy: 0.8457\n",
      "Epoch 2/10\n",
      "1875/1875 [==============================] - 7s 4ms/step - loss: 0.2998 - accuracy: 0.8893\n",
      "Epoch 3/10\n",
      "1875/1875 [==============================] - 7s 4ms/step - loss: 0.2482 - accuracy: 0.9077\n",
      "Epoch 4/10\n",
      "1875/1875 [==============================] - 7s 4ms/step - loss: 0.2080 - accuracy: 0.9216\n",
      "Epoch 5/10\n",
      "1875/1875 [==============================] - 7s 4ms/step - loss: 0.1801 - accuracy: 0.9312\n",
      "Epoch 6/10\n",
      "1875/1875 [==============================] - 7s 4ms/step - loss: 0.1537 - accuracy: 0.9413\n",
      "Epoch 7/10\n",
      "1875/1875 [==============================] - 7s 4ms/step - loss: 0.1351 - accuracy: 0.9492\n",
      "Epoch 8/10\n",
      "1875/1875 [==============================] - 8s 4ms/step - loss: 0.1199 - accuracy: 0.9550\n",
      "Epoch 9/10\n",
      "1875/1875 [==============================] - 8s 4ms/step - loss: 0.1101 - accuracy: 0.9594\n",
      "Epoch 10/10\n",
      "1875/1875 [==============================] - 8s 4ms/step - loss: 0.0971 - accuracy: 0.9637\n",
      "313/313 - 1s - loss: 0.4915 - accuracy: 0.8934 - 812ms/epoch - 3ms/step\n",
      "\n",
      "Test accuracy: 0.8934000134468079\n",
      "313/313 [==============================] - 1s 2ms/step\n",
      "Training Model:  <keras.engine.sequential.Sequential object at 0x7fcd7c379fd0>\n",
      "Epoch 1/10\n",
      "1875/1875 [==============================] - 7s 4ms/step - loss: 0.4801 - accuracy: 0.8282\n",
      "Epoch 2/10\n",
      "1875/1875 [==============================] - 7s 4ms/step - loss: 0.3444 - accuracy: 0.8759\n",
      "Epoch 3/10\n",
      "1875/1875 [==============================] - 7s 4ms/step - loss: 0.3004 - accuracy: 0.8895\n",
      "Epoch 4/10\n",
      "1875/1875 [==============================] - 7s 4ms/step - loss: 0.2701 - accuracy: 0.8996\n",
      "Epoch 5/10\n",
      "1875/1875 [==============================] - 7s 4ms/step - loss: 0.2421 - accuracy: 0.9105\n",
      "Epoch 6/10\n",
      "1875/1875 [==============================] - 7s 4ms/step - loss: 0.2223 - accuracy: 0.9152\n",
      "Epoch 7/10\n",
      "1875/1875 [==============================] - 7s 4ms/step - loss: 0.2042 - accuracy: 0.9230\n",
      "Epoch 8/10\n",
      "1875/1875 [==============================] - 7s 4ms/step - loss: 0.1882 - accuracy: 0.9300\n",
      "Epoch 9/10\n",
      "1875/1875 [==============================] - 7s 4ms/step - loss: 0.1688 - accuracy: 0.9373\n",
      "Epoch 10/10\n",
      "1875/1875 [==============================] - 7s 4ms/step - loss: 0.1607 - accuracy: 0.9413\n",
      "313/313 - 1s - loss: 0.4560 - accuracy: 0.8962 - 790ms/epoch - 3ms/step\n",
      "\n",
      "Test accuracy: 0.8962000012397766\n",
      "313/313 [==============================] - 1s 2ms/step\n"
     ]
    }
   ],
   "source": [
    "models=[model_13, model_14]\n",
    "for model in models:\n",
    "  model.compile(optimizer='adam',\n",
    "              loss=tf.keras.losses.SparseCategoricalCrossentropy(from_logits=True),\n",
    "              metrics=['accuracy'])\n",
    "  print(\"Training Model: \", model)\n",
    "  model.fit(train_images, train_labels, epochs=10)\n",
    "  test_loss, test_acc = model.evaluate(test_images,  test_labels, verbose=2)\n",
    "  print('\\nTest accuracy:', test_acc)\n",
    "  probability_model = tf.keras.Sequential([model, \n",
    "                                         tf.keras.layers.Softmax()])\n",
    "  predictions = probability_model.predict(test_images)\n",
    "  predictions[0]"
   ]
  },
  {
   "cell_type": "code",
   "execution_count": 65,
   "metadata": {
    "id": "ev6cDhYXGYL2"
   },
   "outputs": [],
   "source": []
  }
 ],
 "metadata": {
  "accelerator": "GPU",
  "colab": {
   "provenance": []
  },
  "gpuClass": "standard",
  "kernelspec": {
   "display_name": "Python 3 (ipykernel)",
   "language": "python",
   "name": "python3"
  },
  "language_info": {
   "codemirror_mode": {
    "name": "ipython",
    "version": 3
   },
   "file_extension": ".py",
   "mimetype": "text/x-python",
   "name": "python",
   "nbconvert_exporter": "python",
   "pygments_lexer": "ipython3",
   "version": "3.9.12"
  }
 },
 "nbformat": 4,
 "nbformat_minor": 1
}
