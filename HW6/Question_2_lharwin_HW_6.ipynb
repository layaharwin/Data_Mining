{
  "nbformat": 4,
  "nbformat_minor": 0,
  "metadata": {
    "colab": {
      "provenance": []
    },
    "kernelspec": {
      "name": "python3",
      "display_name": "Python 3"
    },
    "language_info": {
      "name": "python"
    }
  },
  "cells": [
    {
      "cell_type": "markdown",
      "source": [
        "## Question 2 \n",
        "Decision Trees and ensemble approaches"
      ],
      "metadata": {
        "id": "HAVRr8PlMbo9"
      }
    },
    {
      "cell_type": "code",
      "source": [
        "from sklearn.ensemble import AdaBoostClassifier\n",
        "from sklearn import datasets\n",
        "from sklearn.model_selection import train_test_split\n",
        "from sklearn import metrics\n",
        "from sklearn.datasets import load_breast_cancer"
      ],
      "metadata": {
        "id": "aBGzdIGOMjZx"
      },
      "execution_count": 77,
      "outputs": []
    },
    {
      "cell_type": "code",
      "source": [
        "breastdata=load_breast_cancer()"
      ],
      "metadata": {
        "id": "cr80Ko_LNFQH"
      },
      "execution_count": 78,
      "outputs": []
    },
    {
      "cell_type": "code",
      "source": [
        "X=breastdata.data\n",
        "Y=breastdata.target"
      ],
      "metadata": {
        "id": "TZwqP9GWNlsw"
      },
      "execution_count": 79,
      "outputs": []
    },
    {
      "cell_type": "code",
      "source": [
        "X.shape"
      ],
      "metadata": {
        "colab": {
          "base_uri": "https://localhost:8080/"
        },
        "id": "6u1-elWhNxi9",
        "outputId": "98440e67-1947-4337-d318-91af3c2093e8"
      },
      "execution_count": 80,
      "outputs": [
        {
          "output_type": "execute_result",
          "data": {
            "text/plain": [
              "(569, 30)"
            ]
          },
          "metadata": {},
          "execution_count": 80
        }
      ]
    },
    {
      "cell_type": "code",
      "source": [
        "Y.shape"
      ],
      "metadata": {
        "colab": {
          "base_uri": "https://localhost:8080/"
        },
        "id": "_rDARVXMN1T-",
        "outputId": "a0ee077a-38c1-4806-e507-a9e34e1f021d"
      },
      "execution_count": 81,
      "outputs": [
        {
          "output_type": "execute_result",
          "data": {
            "text/plain": [
              "(569,)"
            ]
          },
          "metadata": {},
          "execution_count": 81
        }
      ]
    },
    {
      "cell_type": "code",
      "source": [
        "X_train, X_test, y_train, y_test = train_test_split(X, Y, test_size=0.3)"
      ],
      "metadata": {
        "id": "XG6WQNAVN47m"
      },
      "execution_count": 82,
      "outputs": []
    },
    {
      "cell_type": "markdown",
      "source": [
        "### AdaBoost approach: \n",
        "By default AdaBoost Classifier uses Decision Tree. \n",
        "\n",
        "Choosing number of base predictors as 50 \n"
      ],
      "metadata": {
        "id": "FJ-X6JRCOOwJ"
      }
    },
    {
      "cell_type": "code",
      "source": [
        "ada_classifier_1 = AdaBoostClassifier(n_estimators=50, learning_rate=1)\n",
        "model_1 = ada_classifier_1.fit(X_train, y_train)"
      ],
      "metadata": {
        "id": "nRAYL-IjOAdC"
      },
      "execution_count": 83,
      "outputs": []
    },
    {
      "cell_type": "code",
      "source": [
        "y_pred_1 = model_1.predict(X_test)\n",
        "print(\"Accuracy:\",metrics.accuracy_score(y_test, y_pred_1))\n",
        "print(\"Mean Sqaured Error:\", metrics.mean_squared_error(y_test, y_pred_1))"
      ],
      "metadata": {
        "colab": {
          "base_uri": "https://localhost:8080/"
        },
        "id": "Laa0BLmhQkOs",
        "outputId": "3cb7a403-7c3b-47a0-861d-49573d966c54"
      },
      "execution_count": 84,
      "outputs": [
        {
          "output_type": "stream",
          "name": "stdout",
          "text": [
            "Accuracy: 0.9590643274853801\n",
            "Mean Sqaured Error: 0.04093567251461988\n"
          ]
        }
      ]
    },
    {
      "cell_type": "markdown",
      "source": [
        "Experimenting with differnt number of base presictors in AdaBoost Classifier\n",
        "\n",
        "Case 1: when number of base predictors = 100"
      ],
      "metadata": {
        "id": "QEOJpDGKOafR"
      }
    },
    {
      "cell_type": "code",
      "source": [
        "ada_classifier_2 = AdaBoostClassifier(n_estimators=100, learning_rate=1)\n",
        "model_2 = ada_classifier_2.fit(X_train, y_train)"
      ],
      "metadata": {
        "id": "pvjjdG-3OGh7"
      },
      "execution_count": 85,
      "outputs": []
    },
    {
      "cell_type": "code",
      "source": [
        "y_pred_2 = model_2.predict(X_test)\n",
        "print(\"Accuracy:\",metrics.accuracy_score(y_test, y_pred_2))\n",
        "print(\"Mean Sqaured Error:\", metrics.mean_squared_error(y_test, y_pred_2))"
      ],
      "metadata": {
        "colab": {
          "base_uri": "https://localhost:8080/"
        },
        "id": "uONnV3y_S7Av",
        "outputId": "dc4186dd-e8c1-4ca4-90f9-2959211b8ba2"
      },
      "execution_count": 86,
      "outputs": [
        {
          "output_type": "stream",
          "name": "stdout",
          "text": [
            "Accuracy: 0.9473684210526315\n",
            "Mean Sqaured Error: 0.05263157894736842\n"
          ]
        }
      ]
    },
    {
      "cell_type": "markdown",
      "source": [
        "Case 2: when number of base predictors = 25"
      ],
      "metadata": {
        "id": "MC-pzIvITSOG"
      }
    },
    {
      "cell_type": "code",
      "source": [
        "ada_classifier_3 = AdaBoostClassifier(n_estimators=25, learning_rate=1)\n",
        "model_3 = ada_classifier_3.fit(X_train, y_train)"
      ],
      "metadata": {
        "id": "onn4qVlRPdO0"
      },
      "execution_count": 87,
      "outputs": []
    },
    {
      "cell_type": "code",
      "source": [
        "y_pred_3 = model_3.predict(X_test)\n",
        "print(\"Accuracy:\",metrics.accuracy_score(y_test, y_pred_3))\n",
        "print(\"Mean Sqaured Error:\", metrics.mean_squared_error(y_test, y_pred_3))"
      ],
      "metadata": {
        "colab": {
          "base_uri": "https://localhost:8080/"
        },
        "id": "Q5Me8dEDS_q4",
        "outputId": "767af54e-82ce-4cc3-f1de-51af5aba6d14"
      },
      "execution_count": 88,
      "outputs": [
        {
          "output_type": "stream",
          "name": "stdout",
          "text": [
            "Accuracy: 0.9532163742690059\n",
            "Mean Sqaured Error: 0.04678362573099415\n"
          ]
        }
      ]
    },
    {
      "cell_type": "markdown",
      "source": [
        "Case 3: when number of base predictors = 75\n",
        "\n",
        "\n",
        "\n"
      ],
      "metadata": {
        "id": "MRKBzQx6TVNw"
      }
    },
    {
      "cell_type": "code",
      "source": [
        "ada_classifier_4 = AdaBoostClassifier(n_estimators=75, learning_rate=1)\n",
        "model_4 = ada_classifier_4.fit(X_train, y_train)"
      ],
      "metadata": {
        "id": "gqWXpFlWPdT_"
      },
      "execution_count": 89,
      "outputs": []
    },
    {
      "cell_type": "code",
      "source": [
        "y_pred_4 = model_4.predict(X_test)\n",
        "print(\"Accuracy:\",metrics.accuracy_score(y_test, y_pred_4))\n",
        "print(\"Mean Sqaured Error:\", metrics.mean_squared_error(y_test, y_pred_4))"
      ],
      "metadata": {
        "colab": {
          "base_uri": "https://localhost:8080/"
        },
        "id": "vDJug4yVTFB8",
        "outputId": "d5470c71-1c4e-4939-faca-a851179524a0"
      },
      "execution_count": 90,
      "outputs": [
        {
          "output_type": "stream",
          "name": "stdout",
          "text": [
            "Accuracy: 0.9473684210526315\n",
            "Mean Sqaured Error: 0.05263157894736842\n"
          ]
        }
      ]
    },
    {
      "cell_type": "markdown",
      "source": [
        "Experimenting with differnt values for learning_rate in AdaBoost Classifier\n",
        "\n",
        "Case 1: when learning_rate = 0.1"
      ],
      "metadata": {
        "id": "pMeayedwlSwe"
      }
    },
    {
      "cell_type": "code",
      "source": [
        "ada_classifier_5 = AdaBoostClassifier(n_estimators=75, learning_rate=0.1,)\n",
        "model_5 = ada_classifier_5.fit(X_train, y_train)"
      ],
      "metadata": {
        "id": "wCgpi5PMkrgd"
      },
      "execution_count": 91,
      "outputs": []
    },
    {
      "cell_type": "code",
      "source": [
        "y_pred_5 = model_5.predict(X_test)\n",
        "print(\"Accuracy:\",metrics.accuracy_score(y_test, y_pred_5))\n",
        "print(\"Mean Sqaured Error:\", metrics.mean_squared_error(y_test, y_pred_5))"
      ],
      "metadata": {
        "colab": {
          "base_uri": "https://localhost:8080/"
        },
        "id": "YP_LmhpDlj6r",
        "outputId": "558cbb0c-1728-4534-9de9-e68a97d8eebf"
      },
      "execution_count": 92,
      "outputs": [
        {
          "output_type": "stream",
          "name": "stdout",
          "text": [
            "Accuracy: 0.9649122807017544\n",
            "Mean Sqaured Error: 0.03508771929824561\n"
          ]
        }
      ]
    },
    {
      "cell_type": "markdown",
      "source": [
        "Case 2: when learning_rate = **0.5**"
      ],
      "metadata": {
        "id": "EgiBPMuCleSO"
      }
    },
    {
      "cell_type": "code",
      "source": [
        "ada_classifier_6 = AdaBoostClassifier(n_estimators=75, learning_rate=0.5,)\n",
        "model_6 = ada_classifier_6.fit(X_train, y_train)"
      ],
      "metadata": {
        "id": "jcOpHKmglLTI"
      },
      "execution_count": 93,
      "outputs": []
    },
    {
      "cell_type": "code",
      "source": [
        "y_pred_6 = model_6.predict(X_test)\n",
        "print(\"Accuracy:\",metrics.accuracy_score(y_test, y_pred_6))\n",
        "print(\"Mean Sqaured Error:\", metrics.mean_squared_error(y_test, y_pred_6))"
      ],
      "metadata": {
        "colab": {
          "base_uri": "https://localhost:8080/"
        },
        "id": "6v9vo4w4lo7r",
        "outputId": "25a21ec5-6fce-4cac-eaa2-ec4160ba1263"
      },
      "execution_count": 94,
      "outputs": [
        {
          "output_type": "stream",
          "name": "stdout",
          "text": [
            "Accuracy: 0.9707602339181286\n",
            "Mean Sqaured Error: 0.029239766081871343\n"
          ]
        }
      ]
    },
    {
      "cell_type": "markdown",
      "source": [
        "## Bagging Approach:\n",
        "By default Bagging approach uses Decision Tree. "
      ],
      "metadata": {
        "id": "Uz6T6YGAP8gj"
      }
    },
    {
      "cell_type": "code",
      "source": [
        "from sklearn.ensemble import BaggingClassifier"
      ],
      "metadata": {
        "id": "T6rexmAzPdVk"
      },
      "execution_count": 95,
      "outputs": []
    },
    {
      "cell_type": "markdown",
      "source": [
        "Choosing number of base predictors as 10"
      ],
      "metadata": {
        "id": "LF1QVTE_T29E"
      }
    },
    {
      "cell_type": "code",
      "source": [
        "bagging_classifier_1 = BaggingClassifier( n_estimators=10, random_state=0).fit(X_train, y_train)"
      ],
      "metadata": {
        "id": "sAVNA7RGPdYo"
      },
      "execution_count": 96,
      "outputs": []
    },
    {
      "cell_type": "code",
      "source": [
        "y_pred_bag_1= bagging_classifier_1.predict(X_test)\n",
        "print(\"Accuracy:\",metrics.accuracy_score(y_test, y_pred_bag_1))\n",
        "print(\"Mean Sqaured Error:\", metrics.mean_squared_error(y_test, y_pred_bag_1))"
      ],
      "metadata": {
        "colab": {
          "base_uri": "https://localhost:8080/"
        },
        "id": "PzOw8YrNUEMR",
        "outputId": "b3e27ac1-7659-4f28-c632-85555542a4a6"
      },
      "execution_count": 97,
      "outputs": [
        {
          "output_type": "stream",
          "name": "stdout",
          "text": [
            "Accuracy: 0.9532163742690059\n",
            "Mean Sqaured Error: 0.04678362573099415\n"
          ]
        }
      ]
    },
    {
      "cell_type": "markdown",
      "source": [
        "Experimenting with differnt number of base presictors in Bagging Classifier\n",
        "\n",
        "Case 1: when number of base predictors = 50"
      ],
      "metadata": {
        "id": "XPkxpaSvRyTN"
      }
    },
    {
      "cell_type": "code",
      "source": [
        "bagging_classifier_2 = BaggingClassifier( n_estimators=50, random_state=0).fit(X_train, y_train)"
      ],
      "metadata": {
        "id": "sQUQtVv3RtRC"
      },
      "execution_count": 98,
      "outputs": []
    },
    {
      "cell_type": "code",
      "source": [
        "y_pred_bag_2= bagging_classifier_2.predict(X_test)\n",
        "print(\"Accuracy:\",metrics.accuracy_score(y_test, y_pred_bag_2))\n",
        "print(\"Mean Sqaured Error:\", metrics.mean_squared_error(y_test, y_pred_bag_2))"
      ],
      "metadata": {
        "colab": {
          "base_uri": "https://localhost:8080/"
        },
        "id": "1nYbglMoUjLB",
        "outputId": "f283a3e9-3a97-4b5a-a901-a03241159b45"
      },
      "execution_count": 99,
      "outputs": [
        {
          "output_type": "stream",
          "name": "stdout",
          "text": [
            "Accuracy: 0.9590643274853801\n",
            "Mean Sqaured Error: 0.04093567251461988\n"
          ]
        }
      ]
    },
    {
      "cell_type": "markdown",
      "source": [
        "Case 2: when number of base predictors = 75"
      ],
      "metadata": {
        "id": "J7UVj6FtUTOK"
      }
    },
    {
      "cell_type": "code",
      "source": [
        "bagging_classifier_3 = BaggingClassifier( n_estimators=75, random_state=0).fit(X_train, y_train)"
      ],
      "metadata": {
        "id": "t6grb5e_RzRa"
      },
      "execution_count": 100,
      "outputs": []
    },
    {
      "cell_type": "code",
      "source": [
        "y_pred_bag_3= bagging_classifier_3.predict(X_test)\n",
        "print(\"Accuracy:\",metrics.accuracy_score(y_test, y_pred_bag_3))\n",
        "print(\"Mean Sqaured Error:\", metrics.mean_squared_error(y_test, y_pred_bag_3))"
      ],
      "metadata": {
        "colab": {
          "base_uri": "https://localhost:8080/"
        },
        "id": "bW1PkkpGUjvp",
        "outputId": "3f275405-8d60-4a27-eea8-d6dec45268dc"
      },
      "execution_count": 101,
      "outputs": [
        {
          "output_type": "stream",
          "name": "stdout",
          "text": [
            "Accuracy: 0.9649122807017544\n",
            "Mean Sqaured Error: 0.03508771929824561\n"
          ]
        }
      ]
    },
    {
      "cell_type": "markdown",
      "source": [
        "Case 3: when number of base predictors = 100"
      ],
      "metadata": {
        "id": "LGaOO8ymUasU"
      }
    },
    {
      "cell_type": "code",
      "source": [
        "bagging_classifier_4 = BaggingClassifier( n_estimators=100, random_state=0).fit(X_train, y_train)"
      ],
      "metadata": {
        "id": "SKLTFQfgRzUw"
      },
      "execution_count": 102,
      "outputs": []
    },
    {
      "cell_type": "code",
      "source": [
        "y_pred_bag_4= bagging_classifier_4.predict(X_test)\n",
        "print(\"Accuracy:\",metrics.accuracy_score(y_test, y_pred_bag_4))\n",
        "print(\"Mean Sqaured Error:\", metrics.mean_squared_error(y_test, y_pred_bag_4))"
      ],
      "metadata": {
        "colab": {
          "base_uri": "https://localhost:8080/"
        },
        "id": "aMlbMuGeRzYb",
        "outputId": "79f6e371-0692-490d-adc0-fadd04379ed2"
      },
      "execution_count": 103,
      "outputs": [
        {
          "output_type": "stream",
          "name": "stdout",
          "text": [
            "Accuracy: 0.9590643274853801\n",
            "Mean Sqaured Error: 0.04093567251461988\n"
          ]
        }
      ]
    },
    {
      "cell_type": "markdown",
      "source": [
        "Experimenting with differnt values of max_samples in Bagging Classifier\n",
        "\n",
        "Case 1: when max_samples = 2"
      ],
      "metadata": {
        "id": "H3Y7N6c8tUIt"
      }
    },
    {
      "cell_type": "code",
      "source": [
        "bagging_classifier_5 = BaggingClassifier( n_estimators=100, random_state=0, max_samples= 2).fit(X_train, y_train)\n",
        "y_pred_bag_5= bagging_classifier_5.predict(X_test)"
      ],
      "metadata": {
        "id": "1Mgagho3UyXK"
      },
      "execution_count": 108,
      "outputs": []
    },
    {
      "cell_type": "code",
      "source": [
        "print(\"Accuracy:\",metrics.accuracy_score(y_test, y_pred_bag_5))\n",
        "print(\"Mean Sqaured Error:\", metrics.mean_squared_error(y_test, y_pred_bag_5))"
      ],
      "metadata": {
        "colab": {
          "base_uri": "https://localhost:8080/"
        },
        "id": "jA_QSVBzthJ0",
        "outputId": "3fabe0cd-00bb-4ef1-cdfe-ab31825ddf9e"
      },
      "execution_count": 109,
      "outputs": [
        {
          "output_type": "stream",
          "name": "stdout",
          "text": [
            "Accuracy: 0.9064327485380117\n",
            "Mean Sqaured Error: 0.0935672514619883\n"
          ]
        }
      ]
    },
    {
      "cell_type": "markdown",
      "source": [
        "Case 2: when max_samples = 1"
      ],
      "metadata": {
        "id": "MJkkknolthjE"
      }
    },
    {
      "cell_type": "code",
      "source": [
        "bagging_classifier_6 = BaggingClassifier( n_estimators=100, random_state=0, max_samples= 1.0).fit(X_train, y_train)\n",
        "y_pred_bag_6= bagging_classifier_6.predict(X_test)"
      ],
      "metadata": {
        "id": "QPVWRNG3qVVN"
      },
      "execution_count": 110,
      "outputs": []
    },
    {
      "cell_type": "code",
      "source": [
        "print(\"Accuracy:\",metrics.accuracy_score(y_test, y_pred_bag_6))\n",
        "print(\"Mean Sqaured Error:\", metrics.mean_squared_error(y_test, y_pred_bag_6))"
      ],
      "metadata": {
        "colab": {
          "base_uri": "https://localhost:8080/"
        },
        "id": "t_f2HHIetksm",
        "outputId": "16b2fc4c-1ac4-46fc-cd51-a5fe207941f0"
      },
      "execution_count": 111,
      "outputs": [
        {
          "output_type": "stream",
          "name": "stdout",
          "text": [
            "Accuracy: 0.9590643274853801\n",
            "Mean Sqaured Error: 0.04093567251461988\n"
          ]
        }
      ]
    },
    {
      "cell_type": "markdown",
      "source": [
        "Case 3: when max_samples = 3"
      ],
      "metadata": {
        "id": "bd1FMuAvtlD6"
      }
    },
    {
      "cell_type": "code",
      "source": [
        "bagging_classifier_7 = BaggingClassifier( n_estimators=100, random_state=0, max_samples= 3).fit(X_train, y_train)\n",
        "y_pred_bag_7= bagging_classifier_7.predict(X_test)"
      ],
      "metadata": {
        "id": "YXjN-2y2q4HM"
      },
      "execution_count": 112,
      "outputs": []
    },
    {
      "cell_type": "code",
      "source": [
        "print(\"Accuracy:\",metrics.accuracy_score(y_test, y_pred_bag_7))\n",
        "print(\"Mean Sqaured Error:\", metrics.mean_squared_error(y_test, y_pred_bag_7))"
      ],
      "metadata": {
        "colab": {
          "base_uri": "https://localhost:8080/"
        },
        "id": "vrUf1p7wt_Fb",
        "outputId": "11b44ae8-b88a-4035-b320-bd27176798bc"
      },
      "execution_count": 113,
      "outputs": [
        {
          "output_type": "stream",
          "name": "stdout",
          "text": [
            "Accuracy: 0.935672514619883\n",
            "Mean Sqaured Error: 0.06432748538011696\n"
          ]
        }
      ]
    }
  ]
}