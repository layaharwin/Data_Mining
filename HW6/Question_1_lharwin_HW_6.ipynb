{
 "cells": [
  {
   "cell_type": "markdown",
   "id": "77a39d62",
   "metadata": {},
   "source": [
    "## Question 1: Linear Regression"
   ]
  },
  {
   "cell_type": "code",
   "execution_count": 232,
   "id": "3c0fd389",
   "metadata": {},
   "outputs": [],
   "source": [
    "# Import all the libraries\n",
    "from sklearn.model_selection import train_test_split\n",
    "from sklearn.linear_model import LinearRegression\n",
    "from sklearn.metrics import mean_squared_error, r2_score, accuracy_score\n",
    "from sklearn.preprocessing import normalize\n",
    "import pandas as pd"
   ]
  },
  {
   "cell_type": "code",
   "execution_count": 233,
   "id": "eaa90a75",
   "metadata": {},
   "outputs": [
    {
     "data": {
      "text/html": [
       "<div>\n",
       "<style scoped>\n",
       "    .dataframe tbody tr th:only-of-type {\n",
       "        vertical-align: middle;\n",
       "    }\n",
       "\n",
       "    .dataframe tbody tr th {\n",
       "        vertical-align: top;\n",
       "    }\n",
       "\n",
       "    .dataframe thead th {\n",
       "        text-align: right;\n",
       "    }\n",
       "</style>\n",
       "<table border=\"1\" class=\"dataframe\">\n",
       "  <thead>\n",
       "    <tr style=\"text-align: right;\">\n",
       "      <th></th>\n",
       "      <th>mpg</th>\n",
       "      <th>cylinders</th>\n",
       "      <th>displacement</th>\n",
       "      <th>horsepower</th>\n",
       "      <th>weight</th>\n",
       "      <th>acceleration</th>\n",
       "      <th>model year</th>\n",
       "      <th>origin</th>\n",
       "      <th>car name</th>\n",
       "    </tr>\n",
       "  </thead>\n",
       "  <tbody>\n",
       "    <tr>\n",
       "      <th>0</th>\n",
       "      <td>18.0</td>\n",
       "      <td>8</td>\n",
       "      <td>307.0</td>\n",
       "      <td>130</td>\n",
       "      <td>3504</td>\n",
       "      <td>12.0</td>\n",
       "      <td>70</td>\n",
       "      <td>1</td>\n",
       "      <td>chevrolet chevelle malibu</td>\n",
       "    </tr>\n",
       "    <tr>\n",
       "      <th>1</th>\n",
       "      <td>15.0</td>\n",
       "      <td>8</td>\n",
       "      <td>350.0</td>\n",
       "      <td>165</td>\n",
       "      <td>3693</td>\n",
       "      <td>11.5</td>\n",
       "      <td>70</td>\n",
       "      <td>1</td>\n",
       "      <td>buick skylark 320</td>\n",
       "    </tr>\n",
       "    <tr>\n",
       "      <th>2</th>\n",
       "      <td>18.0</td>\n",
       "      <td>8</td>\n",
       "      <td>318.0</td>\n",
       "      <td>150</td>\n",
       "      <td>3436</td>\n",
       "      <td>11.0</td>\n",
       "      <td>70</td>\n",
       "      <td>1</td>\n",
       "      <td>plymouth satellite</td>\n",
       "    </tr>\n",
       "    <tr>\n",
       "      <th>3</th>\n",
       "      <td>16.0</td>\n",
       "      <td>8</td>\n",
       "      <td>304.0</td>\n",
       "      <td>150</td>\n",
       "      <td>3433</td>\n",
       "      <td>12.0</td>\n",
       "      <td>70</td>\n",
       "      <td>1</td>\n",
       "      <td>amc rebel sst</td>\n",
       "    </tr>\n",
       "    <tr>\n",
       "      <th>4</th>\n",
       "      <td>17.0</td>\n",
       "      <td>8</td>\n",
       "      <td>302.0</td>\n",
       "      <td>140</td>\n",
       "      <td>3449</td>\n",
       "      <td>10.5</td>\n",
       "      <td>70</td>\n",
       "      <td>1</td>\n",
       "      <td>ford torino</td>\n",
       "    </tr>\n",
       "    <tr>\n",
       "      <th>5</th>\n",
       "      <td>15.0</td>\n",
       "      <td>8</td>\n",
       "      <td>429.0</td>\n",
       "      <td>198</td>\n",
       "      <td>4341</td>\n",
       "      <td>10.0</td>\n",
       "      <td>70</td>\n",
       "      <td>1</td>\n",
       "      <td>ford galaxie 500</td>\n",
       "    </tr>\n",
       "    <tr>\n",
       "      <th>6</th>\n",
       "      <td>14.0</td>\n",
       "      <td>8</td>\n",
       "      <td>454.0</td>\n",
       "      <td>220</td>\n",
       "      <td>4354</td>\n",
       "      <td>9.0</td>\n",
       "      <td>70</td>\n",
       "      <td>1</td>\n",
       "      <td>chevrolet impala</td>\n",
       "    </tr>\n",
       "    <tr>\n",
       "      <th>7</th>\n",
       "      <td>14.0</td>\n",
       "      <td>8</td>\n",
       "      <td>440.0</td>\n",
       "      <td>215</td>\n",
       "      <td>4312</td>\n",
       "      <td>8.5</td>\n",
       "      <td>70</td>\n",
       "      <td>1</td>\n",
       "      <td>plymouth fury iii</td>\n",
       "    </tr>\n",
       "    <tr>\n",
       "      <th>8</th>\n",
       "      <td>14.0</td>\n",
       "      <td>8</td>\n",
       "      <td>455.0</td>\n",
       "      <td>225</td>\n",
       "      <td>4425</td>\n",
       "      <td>10.0</td>\n",
       "      <td>70</td>\n",
       "      <td>1</td>\n",
       "      <td>pontiac catalina</td>\n",
       "    </tr>\n",
       "    <tr>\n",
       "      <th>9</th>\n",
       "      <td>15.0</td>\n",
       "      <td>8</td>\n",
       "      <td>390.0</td>\n",
       "      <td>190</td>\n",
       "      <td>3850</td>\n",
       "      <td>8.5</td>\n",
       "      <td>70</td>\n",
       "      <td>1</td>\n",
       "      <td>amc ambassador dpl</td>\n",
       "    </tr>\n",
       "  </tbody>\n",
       "</table>\n",
       "</div>"
      ],
      "text/plain": [
       "    mpg  cylinders  displacement horsepower  weight  acceleration  model year  \\\n",
       "0  18.0          8         307.0        130    3504          12.0          70   \n",
       "1  15.0          8         350.0        165    3693          11.5          70   \n",
       "2  18.0          8         318.0        150    3436          11.0          70   \n",
       "3  16.0          8         304.0        150    3433          12.0          70   \n",
       "4  17.0          8         302.0        140    3449          10.5          70   \n",
       "5  15.0          8         429.0        198    4341          10.0          70   \n",
       "6  14.0          8         454.0        220    4354           9.0          70   \n",
       "7  14.0          8         440.0        215    4312           8.5          70   \n",
       "8  14.0          8         455.0        225    4425          10.0          70   \n",
       "9  15.0          8         390.0        190    3850           8.5          70   \n",
       "\n",
       "   origin                   car name  \n",
       "0       1  chevrolet chevelle malibu  \n",
       "1       1          buick skylark 320  \n",
       "2       1         plymouth satellite  \n",
       "3       1              amc rebel sst  \n",
       "4       1                ford torino  \n",
       "5       1           ford galaxie 500  \n",
       "6       1           chevrolet impala  \n",
       "7       1          plymouth fury iii  \n",
       "8       1           pontiac catalina  \n",
       "9       1         amc ambassador dpl  "
      ]
     },
     "execution_count": 233,
     "metadata": {},
     "output_type": "execute_result"
    }
   ],
   "source": [
    "# Read the dataset\n",
    "df = pd.read_csv('auto-mpg.csv')\n",
    "df.head(10)"
   ]
  },
  {
   "cell_type": "code",
   "execution_count": 234,
   "id": "bd970750",
   "metadata": {},
   "outputs": [],
   "source": [
    "# Data Cleaning and Nomalization using l2 norm\n",
    "df=df[df.horsepower!='?']\n",
    "df.horsepower= df.horsepower.astype('int64')\n",
    "df.drop('car name', axis = 1, inplace=True)\n",
    "normal_df = normalize(df, norm=\"l2\")"
   ]
  },
  {
   "cell_type": "code",
   "execution_count": 235,
   "id": "e326344a",
   "metadata": {},
   "outputs": [
    {
     "name": "stdout",
     "output_type": "stream",
     "text": [
      "[0.01020671 0.01133969 0.00661152 0.01930656 0.00449237 0.0130384\n",
      " 0.01084878 0.01570587 0.00545695 0.00415221 0.00319143 0.00522085\n",
      " 0.00921612 0.00828163 0.00820349 0.00984659 0.00885227 0.00319363\n",
      " 0.00611211 0.00993722 0.00418026 0.01604148 0.00243621 0.00915631\n",
      " 0.01717947 0.00923501 0.0192934  0.0037514  0.01560174 0.0212001\n",
      " 0.00241203 0.01648975 0.00961908 0.0056155  0.00329238 0.0029248\n",
      " 0.00298439 0.00574747 0.01594131 0.00851305 0.00486331 0.00495539\n",
      " 0.00268264 0.01159984 0.00331173 0.01314708 0.00710471 0.00287683\n",
      " 0.01089487 0.01145543 0.00563301 0.0104277  0.00913227 0.00652241\n",
      " 0.01154705 0.00370468 0.00324459 0.01254557 0.00502162 0.00977502\n",
      " 0.01129742 0.01416109 0.00586947 0.01150437 0.01833246 0.01378488\n",
      " 0.00348164 0.00835883 0.01738738 0.00312089 0.00385757 0.02221437\n",
      " 0.00413801 0.00440966 0.00846646 0.01833288 0.00981858 0.00715772\n",
      " 0.01109139 0.00658199 0.00991156 0.01510771 0.00616692 0.00868552\n",
      " 0.00407918 0.01898926 0.00313093 0.00341236 0.00506004 0.00546421\n",
      " 0.01197558 0.00521025 0.01030677 0.00371792 0.00377048 0.01490398\n",
      " 0.00227691 0.00438856 0.02203454 0.00596736 0.01822421 0.00511911\n",
      " 0.02403318 0.00859535 0.01586087 0.00342062 0.01096721 0.01264383\n",
      " 0.01282322 0.01855397 0.00875619 0.01689849 0.00563242 0.00496913\n",
      " 0.01223154 0.00470543 0.00604801 0.01928558 0.00460907 0.00467158\n",
      " 0.00379569 0.02166116 0.00380457 0.00813949 0.00409498 0.00396209\n",
      " 0.00573416 0.00189623 0.01122373 0.0187469  0.00917924 0.01179199\n",
      " 0.00373    0.00338308 0.01449442 0.00824893 0.01722331 0.00696362\n",
      " 0.00933736 0.00241275 0.01105697 0.00328578 0.00595961 0.01231969\n",
      " 0.00490507 0.00607578 0.01520999 0.0078947  0.00523167 0.01006779\n",
      " 0.00344622 0.00940843 0.00608762 0.01388263 0.0030288  0.00571236\n",
      " 0.00717754 0.0138233  0.00545882 0.01064467 0.00250049 0.01503035\n",
      " 0.00367606 0.00557721 0.00380604 0.00688347 0.01411568 0.00327779\n",
      " 0.00317654 0.00275714 0.01058352 0.00314281 0.00337561 0.01600571\n",
      " 0.01009339 0.00354578 0.00340489 0.00653892 0.0122868  0.0196753\n",
      " 0.00660208 0.01254237 0.01610012 0.00580259 0.00334642 0.00718201\n",
      " 0.00873317 0.00647946 0.01002774 0.00823873 0.0106083  0.00842812\n",
      " 0.01611303 0.0047447  0.00251985 0.01105468 0.00653806 0.01510427\n",
      " 0.00528803 0.00265674 0.02162997 0.00403885 0.01314869 0.01220963\n",
      " 0.00633844 0.00508874 0.0042729  0.00296763 0.01744112 0.013889\n",
      " 0.00789104 0.00447526 0.01563834 0.00395352 0.00540067 0.00869488\n",
      " 0.0157204  0.0151448  0.00385071 0.01306801 0.01628417 0.01418185\n",
      " 0.01998912 0.01468017 0.0144355  0.00589768 0.00678307 0.01389964\n",
      " 0.00389815 0.00886195 0.01018544 0.01033099 0.01834648 0.01483427\n",
      " 0.00679199 0.00985549 0.00807477 0.00400923 0.01578877 0.00794484\n",
      " 0.01858224 0.01868685 0.0067559  0.01931058 0.01546631 0.00981079\n",
      " 0.00518656 0.00710488 0.00593357 0.01783621 0.00345142 0.01120192\n",
      " 0.01536395 0.00900168 0.01137482 0.00933961 0.00342542 0.00383882\n",
      " 0.00642519 0.00831739 0.012539   0.00219307]\n",
      "[[0.00151211 0.04233897 0.03326633 ... 0.00703129 0.03099817 0.00037803]\n",
      " [0.00161996 0.04333383 0.03482906 ... 0.00627733 0.03077917 0.00080998]\n",
      " [0.0013919  0.04210496 0.03897318 ... 0.00539361 0.02540216 0.00069595]\n",
      " ...\n",
      " [0.00139788 0.05277002 0.02970498 ... 0.00615068 0.02725869 0.00034947]\n",
      " [0.00167746 0.04109772 0.02725869 ... 0.00868084 0.03396852 0.00041936]\n",
      " [0.00159496 0.07974804 0.02990552 ... 0.00279118 0.01455402 0.00019937]]\n"
     ]
    }
   ],
   "source": [
    "# Train test split (One third for testing i.e 0.33 and remaining for training)\n",
    "# mpg is the 0th column and remaining are the features column starting from 1st index\n",
    "X_train, X_test, Y_train, Y_test = train_test_split(normal_df[:, 1:], normal_df[:, 0], test_size=0.33, random_state=42)\n",
    "print(Y_train)\n",
    "print(X_train)"
   ]
  },
  {
   "cell_type": "code",
   "execution_count": 236,
   "id": "3810fa4e",
   "metadata": {},
   "outputs": [
    {
     "name": "stdout",
     "output_type": "stream",
     "text": [
      "[[0.00227234 0.08720114 0.03692556 ... 0.00340851 0.019883   0.00028404]\n",
      " [0.00215405 0.09423973 0.0444273  ... 0.00309645 0.01884795 0.00026926]\n",
      " [0.00231567 0.09204783 0.04341879 ... 0.00318404 0.0202621  0.00028946]\n",
      " ...\n",
      " [0.00173746 0.05863912 0.03648656 ... 0.00503862 0.03561783 0.00043436]\n",
      " [0.00152067 0.04562    0.03003317 ... 0.0070711  0.03117367 0.00038017]\n",
      " [0.00146772 0.04366461 0.03008822 ... 0.00711843 0.03008822 0.00036693]]\n"
     ]
    }
   ],
   "source": [
    "print(normal_df[:, 1:])"
   ]
  },
  {
   "cell_type": "markdown",
   "id": "d622a8ab",
   "metadata": {},
   "source": [
    "# Ordinary Linear Regression"
   ]
  },
  {
   "cell_type": "code",
   "execution_count": 237,
   "id": "9d63a865",
   "metadata": {},
   "outputs": [
    {
     "data": {
      "text/plain": [
       "LinearRegression()"
      ]
     },
     "execution_count": 237,
     "metadata": {},
     "output_type": "execute_result"
    }
   ],
   "source": [
    "# modelling using Linear Regression\n",
    "model =  LinearRegression()\n",
    "model.fit(X_train,Y_train)"
   ]
  },
  {
   "cell_type": "code",
   "execution_count": 238,
   "id": "45f6bab0",
   "metadata": {},
   "outputs": [],
   "source": [
    "Y_pred= model.predict(X_test)"
   ]
  },
  {
   "cell_type": "code",
   "execution_count": 239,
   "id": "92dcde58",
   "metadata": {},
   "outputs": [
    {
     "name": "stdout",
     "output_type": "stream",
     "text": [
      "Mean squared error: 1.874651041529805e-06\n"
     ]
    }
   ],
   "source": [
    "# calculating mean squared error\n",
    "print(\"Mean squared error:\",mean_squared_error(Y_pred, Y_test))"
   ]
  },
  {
   "cell_type": "code",
   "execution_count": 240,
   "id": "5a588898",
   "metadata": {},
   "outputs": [
    {
     "name": "stdout",
     "output_type": "stream",
     "text": [
      "Score:  0.9199171531564978\n"
     ]
    }
   ],
   "source": [
    "#Calculating score\n",
    "print(\"Score: \",model.score(X_test,Y_test))"
   ]
  },
  {
   "cell_type": "code",
   "execution_count": 241,
   "id": "97c4a48d",
   "metadata": {},
   "outputs": [
    {
     "data": {
      "text/plain": [
       "array([ 0.84020765, -0.11601289, -0.1712066 , -1.61009463, -0.27982384,\n",
       "        0.56987164,  0.84684289])"
      ]
     },
     "execution_count": 241,
     "metadata": {},
     "output_type": "execute_result"
    }
   ],
   "source": [
    "# coeff of all the features\n",
    "model.coef_"
   ]
  },
  {
   "cell_type": "code",
   "execution_count": 242,
   "id": "6b18dc9b",
   "metadata": {},
   "outputs": [
    {
     "name": "stdout",
     "output_type": "stream",
     "text": [
      "Year Coefficient: 0.5698716404255914\n"
     ]
    }
   ],
   "source": [
    "# year is second last column in the features. \n",
    "print(\"Year Coefficient:\", model.coef_[5]) #year "
   ]
  },
  {
   "cell_type": "markdown",
   "id": "551ae29c",
   "metadata": {},
   "source": [
    "- The coefficient value for the year is 0.56.\n",
    "- Here, the coefficient sign is positive which indicates as the predictor variable increases, the response variable also increases\n",
    "- The coefficient value represents the mean change in the response given a one unit change in the predictor. Here for the year where the coefficient is 0.56, the mean response value is changed at the rate of 0.56 every one unit change in the predictor."
   ]
  },
  {
   "cell_type": "markdown",
   "id": "bed2e1eb",
   "metadata": {},
   "source": [
    "# Lasso"
   ]
  },
  {
   "cell_type": "code",
   "execution_count": 243,
   "id": "6ba9ef54",
   "metadata": {},
   "outputs": [
    {
     "name": "stdout",
     "output_type": "stream",
     "text": [
      "Score:  0.9218451920140968\n",
      "Mean squared error: 1.829517780226406e-06\n"
     ]
    }
   ],
   "source": [
    "from sklearn.linear_model import LassoCV\n",
    "lasso_reg = LassoCV(cv=5, random_state=0, alphas=[10, 0.001,0.00000001,0.3]).fit(X_train,Y_train)\n",
    "Y_pred_lasso = lasso_reg.predict(X_test)\n",
    "print(\"Score: \",lasso_reg.score(X_test,Y_test))\n",
    "print(\"Mean squared error:\",mean_squared_error(Y_pred_lasso, Y_test))"
   ]
  },
  {
   "cell_type": "code",
   "execution_count": 244,
   "id": "6225e41b",
   "metadata": {},
   "outputs": [
    {
     "data": {
      "text/plain": [
       "array([ 0.36516346, -0.083077  , -0.14572326, -1.27578323, -0.1934937 ,\n",
       "        0.58473246,  0.81942232])"
      ]
     },
     "execution_count": 244,
     "metadata": {},
     "output_type": "execute_result"
    }
   ],
   "source": [
    "# Coefficients\n",
    "lasso_reg.coef_ "
   ]
  },
  {
   "cell_type": "code",
   "execution_count": 245,
   "id": "8a55e252",
   "metadata": {},
   "outputs": [
    {
     "data": {
      "text/plain": [
       "1e-08"
      ]
     },
     "execution_count": 245,
     "metadata": {},
     "output_type": "execute_result"
    }
   ],
   "source": [
    "# Alpha value\n",
    "lasso_reg.alpha_"
   ]
  },
  {
   "cell_type": "markdown",
   "id": "7fa8fc7d",
   "metadata": {},
   "source": [
    "# Ridge"
   ]
  },
  {
   "cell_type": "code",
   "execution_count": 246,
   "id": "ef8df659",
   "metadata": {},
   "outputs": [
    {
     "name": "stdout",
     "output_type": "stream",
     "text": [
      "Score:  0.9181987190186239\n",
      "Mean Squared Error:  1.9148776877261005e-06\n"
     ]
    }
   ],
   "source": [
    "from sklearn.linear_model import RidgeCV\n",
    "ridge_reg = RidgeCV(cv=5, alphas=[10, 0.001,0.00000001,0.3]).fit(X_train,Y_train)\n",
    "Y_pred_ridge = ridge_reg.predict(X_test)\n",
    "print(\"Score: \",ridge_reg.score(X_test, Y_test))\n",
    "print(\"Mean Squared Error: \",mean_squared_error(Y_pred_ridge, Y_test))"
   ]
  },
  {
   "cell_type": "code",
   "execution_count": 247,
   "id": "4bdd67cf",
   "metadata": {},
   "outputs": [
    {
     "data": {
      "text/plain": [
       "array([ 0.02053449, -0.01912991, -0.03005851, -0.04396165,  0.10153373,\n",
       "        0.54081557,  0.03769747])"
      ]
     },
     "execution_count": 247,
     "metadata": {},
     "output_type": "execute_result"
    }
   ],
   "source": [
    "# Coefficients\n",
    "ridge_reg.coef_ "
   ]
  },
  {
   "cell_type": "code",
   "execution_count": 248,
   "id": "16b5db5c",
   "metadata": {},
   "outputs": [
    {
     "data": {
      "text/plain": [
       "0.001"
      ]
     },
     "execution_count": 248,
     "metadata": {},
     "output_type": "execute_result"
    }
   ],
   "source": [
    "# Alpha value\n",
    "ridge_reg.alpha_"
   ]
  },
  {
   "cell_type": "code",
   "execution_count": 249,
   "id": "83abe927",
   "metadata": {},
   "outputs": [
    {
     "data": {
      "image/png": "[encoded data removed]",
      "text/plain": [
       "<Figure size 432x288 with 1 Axes>"
      ]
     },
     "metadata": {
      "needs_background": "light"
     },
     "output_type": "display_data"
    }
   ],
   "source": [
    "# plotting mean squared error for different models \n",
    "mse_list = [1.874651041529805e-06, 1.829517780226406e-06, 1.9148776877261005e-06]\n",
    "models_list = ['Ordinary Linear Regression', 'Lasso', 'Ridge']\n",
    "\n",
    "import matplotlib.pyplot as plt\n",
    "plt.bar(models_list, mse_list)\n",
    "plt.title('Comparison of Mean Squared Error')\n",
    "plt.xlabel('Models')\n",
    "plt.ylabel('Mean Squared Error')\n",
    "plt.show()"
   ]
  }
 ],
 "metadata": {
  "kernelspec": {
   "display_name": "Python 3",
   "language": "python",
   "name": "python3"
  },
  "language_info": {
   "codemirror_mode": {
    "name": "ipython",
    "version": 3
   },
   "file_extension": ".py",
   "mimetype": "text/x-python",
   "name": "python",
   "nbconvert_exporter": "python",
   "pygments_lexer": "ipython3",
   "version": "3.8.8"
  }
 },
 "nbformat": 4,
 "nbformat_minor": 5
}
