{
 "cells": [
  {
   "cell_type": "markdown",
   "id": "eeb95ee5",
   "metadata": {},
   "source": [
    "# Question 4:"
   ]
  },
  {
   "cell_type": "code",
   "execution_count": 159,
   "id": "8d1321ef",
   "metadata": {},
   "outputs": [],
   "source": [
    "from sklearn.decomposition import PCA\n",
    "from sklearn.manifold import TSNE\n",
    "import matplotlib.pyplot as plt\n",
    "import numpy as np\n",
    "import pandas as pd\n",
    "%matplotlib inline"
   ]
  },
  {
   "cell_type": "code",
   "execution_count": 2,
   "id": "9d6106c1",
   "metadata": {},
   "outputs": [
    {
     "data": {
      "text/html": [
       "<div>\n",
       "<style scoped>\n",
       "    .dataframe tbody tr th:only-of-type {\n",
       "        vertical-align: middle;\n",
       "    }\n",
       "\n",
       "    .dataframe tbody tr th {\n",
       "        vertical-align: top;\n",
       "    }\n",
       "\n",
       "    .dataframe thead th {\n",
       "        text-align: right;\n",
       "    }\n",
       "</style>\n",
       "<table border=\"1\" class=\"dataframe\">\n",
       "  <thead>\n",
       "    <tr style=\"text-align: right;\">\n",
       "      <th></th>\n",
       "      <th>Unnamed: 0</th>\n",
       "      <th>k__Archaea|p__Euryarchaeota|c__Methanobacteria|o__Methanobacteriales|f__Methanobacteriaceae|g__Methanobrevibacter|s__Methanobrevibacter_smithii</th>\n",
       "      <th>k__Archaea|p__Euryarchaeota|c__Methanobacteria|o__Methanobacteriales|f__Methanobacteriaceae|g__Methanobrevibacter|s__Methanobrevibacter_unclassified</th>\n",
       "      <th>k__Archaea|p__Euryarchaeota|c__Methanobacteria|o__Methanobacteriales|f__Methanobacteriaceae|g__Methanosphaera|s__Methanosphaera_stadtmanae</th>\n",
       "      <th>k__Bacteria|p__Acidobacteria|c__Acidobacteriia|o__Acidobacteriales|f__Acidobacteriaceae|g__Acidobacteriaceae_unclassified</th>\n",
       "      <th>k__Bacteria|p__Actinobacteria|c__Actinobacteria|o__Actinomycetales|f__Actinomycetaceae|g__Actinomyces|s__Actinomyces_graevenitzii</th>\n",
       "      <th>k__Bacteria|p__Actinobacteria|c__Actinobacteria|o__Actinomycetales|f__Actinomycetaceae|g__Actinomyces|s__Actinomyces_odontolyticus</th>\n",
       "      <th>k__Bacteria|p__Actinobacteria|c__Actinobacteria|o__Actinomycetales|f__Actinomycetaceae|g__Actinomyces|s__Actinomyces_turicensis</th>\n",
       "      <th>k__Bacteria|p__Actinobacteria|c__Actinobacteria|o__Actinomycetales|f__Actinomycetaceae|g__Varibaculum|s__Varibaculum_cambriense</th>\n",
       "      <th>k__Bacteria|p__Actinobacteria|c__Actinobacteria|o__Actinomycetales|f__Micrococcaceae|g__Rothia|s__Rothia_mucilaginosa</th>\n",
       "      <th>...</th>\n",
       "      <th>k__Bacteria|p__Proteobacteria|c__Gammaproteobacteria|o__Oceanospirillales|f__Halomonadaceae|g__Halomonas|s__Halomonas_boliviensis</th>\n",
       "      <th>k__Bacteria|p__Proteobacteria|c__Gammaproteobacteria|o__Vibrionales|f__Vibrionaceae|g__Vibrio|s__Vibrio_kanaloae</th>\n",
       "      <th>k__Bacteria|p__Proteobacteria|c__Gammaproteobacteria|o__Xanthomonadales|f__Xanthomonadaceae|g__Xanthomonas|s__Xanthomonas_axonopodis</th>\n",
       "      <th>k__Bacteria|p__Proteobacteria|c__Gammaproteobacteria|o__Xanthomonadales|f__Xanthomonadaceae|g__Xanthomonas|s__Xanthomonas_fuscans</th>\n",
       "      <th>k__Bacteria|p__Tenericutes|c__Mollicutes|o__Mycoplasmatales|f__Mycoplasmataceae|g__Mycoplasma|s__Mycoplasma_bovis</th>\n",
       "      <th>k__Bacteria|p__Bacteroidetes|c__Flavobacteriia|o__Flavobacteriales|f__Flavobacteriaceae|g__Zunongwangia|s__Zunongwangia_profunda</th>\n",
       "      <th>k__Bacteria|p__Firmicutes|c__Bacilli|o__Lactobacillales|f__Enterococcaceae|g__Enterococcus|s__Enterococcus_pallens</th>\n",
       "      <th>k__Bacteria|p__Planctomycetes|c__Planctomycetia|o__Planctomycetales|f__Planctomycetaceae|g__Rhodopirellula|s__Rhodopirellula_unclassified</th>\n",
       "      <th>k__Bacteria|p__Proteobacteria|c__Gammaproteobacteria|o__Vibrionales|f__Vibrionaceae|g__Vibrio|s__Vibrio_furnissii</th>\n",
       "      <th>Class</th>\n",
       "    </tr>\n",
       "  </thead>\n",
       "  <tbody>\n",
       "    <tr>\n",
       "      <th>0</th>\n",
       "      <td>con-001</td>\n",
       "      <td>0.33364</td>\n",
       "      <td>0.00000</td>\n",
       "      <td>0.0</td>\n",
       "      <td>0.0</td>\n",
       "      <td>0.0</td>\n",
       "      <td>0.0</td>\n",
       "      <td>0.0</td>\n",
       "      <td>0.0</td>\n",
       "      <td>0.00000</td>\n",
       "      <td>...</td>\n",
       "      <td>0.0</td>\n",
       "      <td>0.0</td>\n",
       "      <td>0.0</td>\n",
       "      <td>0.0</td>\n",
       "      <td>0.0</td>\n",
       "      <td>0.0</td>\n",
       "      <td>0.0</td>\n",
       "      <td>0.0</td>\n",
       "      <td>0.0</td>\n",
       "      <td>n</td>\n",
       "    </tr>\n",
       "    <tr>\n",
       "      <th>1</th>\n",
       "      <td>con-002</td>\n",
       "      <td>0.49776</td>\n",
       "      <td>0.12802</td>\n",
       "      <td>0.0</td>\n",
       "      <td>0.0</td>\n",
       "      <td>0.0</td>\n",
       "      <td>0.0</td>\n",
       "      <td>0.0</td>\n",
       "      <td>0.0</td>\n",
       "      <td>0.00000</td>\n",
       "      <td>...</td>\n",
       "      <td>0.0</td>\n",
       "      <td>0.0</td>\n",
       "      <td>0.0</td>\n",
       "      <td>0.0</td>\n",
       "      <td>0.0</td>\n",
       "      <td>0.0</td>\n",
       "      <td>0.0</td>\n",
       "      <td>0.0</td>\n",
       "      <td>0.0</td>\n",
       "      <td>n</td>\n",
       "    </tr>\n",
       "    <tr>\n",
       "      <th>2</th>\n",
       "      <td>con-003</td>\n",
       "      <td>0.00000</td>\n",
       "      <td>0.00000</td>\n",
       "      <td>0.0</td>\n",
       "      <td>0.0</td>\n",
       "      <td>0.0</td>\n",
       "      <td>0.0</td>\n",
       "      <td>0.0</td>\n",
       "      <td>0.0</td>\n",
       "      <td>0.01254</td>\n",
       "      <td>...</td>\n",
       "      <td>0.0</td>\n",
       "      <td>0.0</td>\n",
       "      <td>0.0</td>\n",
       "      <td>0.0</td>\n",
       "      <td>0.0</td>\n",
       "      <td>0.0</td>\n",
       "      <td>0.0</td>\n",
       "      <td>0.0</td>\n",
       "      <td>0.0</td>\n",
       "      <td>n</td>\n",
       "    </tr>\n",
       "    <tr>\n",
       "      <th>3</th>\n",
       "      <td>con-004</td>\n",
       "      <td>0.00000</td>\n",
       "      <td>0.00000</td>\n",
       "      <td>0.0</td>\n",
       "      <td>0.0</td>\n",
       "      <td>0.0</td>\n",
       "      <td>0.0</td>\n",
       "      <td>0.0</td>\n",
       "      <td>0.0</td>\n",
       "      <td>0.02847</td>\n",
       "      <td>...</td>\n",
       "      <td>0.0</td>\n",
       "      <td>0.0</td>\n",
       "      <td>0.0</td>\n",
       "      <td>0.0</td>\n",
       "      <td>0.0</td>\n",
       "      <td>0.0</td>\n",
       "      <td>0.0</td>\n",
       "      <td>0.0</td>\n",
       "      <td>0.0</td>\n",
       "      <td>n</td>\n",
       "    </tr>\n",
       "    <tr>\n",
       "      <th>4</th>\n",
       "      <td>con-005</td>\n",
       "      <td>0.49446</td>\n",
       "      <td>0.06786</td>\n",
       "      <td>0.0</td>\n",
       "      <td>0.0</td>\n",
       "      <td>0.0</td>\n",
       "      <td>0.0</td>\n",
       "      <td>0.0</td>\n",
       "      <td>0.0</td>\n",
       "      <td>0.02221</td>\n",
       "      <td>...</td>\n",
       "      <td>0.0</td>\n",
       "      <td>0.0</td>\n",
       "      <td>0.0</td>\n",
       "      <td>0.0</td>\n",
       "      <td>0.0</td>\n",
       "      <td>0.0</td>\n",
       "      <td>0.0</td>\n",
       "      <td>0.0</td>\n",
       "      <td>0.0</td>\n",
       "      <td>n</td>\n",
       "    </tr>\n",
       "  </tbody>\n",
       "</table>\n",
       "<p>5 rows × 574 columns</p>\n",
       "</div>"
      ],
      "text/plain": [
       "  Unnamed: 0  \\\n",
       "0    con-001   \n",
       "1    con-002   \n",
       "2    con-003   \n",
       "3    con-004   \n",
       "4    con-005   \n",
       "\n",
       "   k__Archaea|p__Euryarchaeota|c__Methanobacteria|o__Methanobacteriales|f__Methanobacteriaceae|g__Methanobrevibacter|s__Methanobrevibacter_smithii  \\\n",
       "0                                            0.33364                                                                                                 \n",
       "1                                            0.49776                                                                                                 \n",
       "2                                            0.00000                                                                                                 \n",
       "3                                            0.00000                                                                                                 \n",
       "4                                            0.49446                                                                                                 \n",
       "\n",
       "   k__Archaea|p__Euryarchaeota|c__Methanobacteria|o__Methanobacteriales|f__Methanobacteriaceae|g__Methanobrevibacter|s__Methanobrevibacter_unclassified  \\\n",
       "0                                            0.00000                                                                                                      \n",
       "1                                            0.12802                                                                                                      \n",
       "2                                            0.00000                                                                                                      \n",
       "3                                            0.00000                                                                                                      \n",
       "4                                            0.06786                                                                                                      \n",
       "\n",
       "   k__Archaea|p__Euryarchaeota|c__Methanobacteria|o__Methanobacteriales|f__Methanobacteriaceae|g__Methanosphaera|s__Methanosphaera_stadtmanae  \\\n",
       "0                                                0.0                                                                                            \n",
       "1                                                0.0                                                                                            \n",
       "2                                                0.0                                                                                            \n",
       "3                                                0.0                                                                                            \n",
       "4                                                0.0                                                                                            \n",
       "\n",
       "   k__Bacteria|p__Acidobacteria|c__Acidobacteriia|o__Acidobacteriales|f__Acidobacteriaceae|g__Acidobacteriaceae_unclassified  \\\n",
       "0                                                0.0                                                                           \n",
       "1                                                0.0                                                                           \n",
       "2                                                0.0                                                                           \n",
       "3                                                0.0                                                                           \n",
       "4                                                0.0                                                                           \n",
       "\n",
       "   k__Bacteria|p__Actinobacteria|c__Actinobacteria|o__Actinomycetales|f__Actinomycetaceae|g__Actinomyces|s__Actinomyces_graevenitzii  \\\n",
       "0                                                0.0                                                                                   \n",
       "1                                                0.0                                                                                   \n",
       "2                                                0.0                                                                                   \n",
       "3                                                0.0                                                                                   \n",
       "4                                                0.0                                                                                   \n",
       "\n",
       "   k__Bacteria|p__Actinobacteria|c__Actinobacteria|o__Actinomycetales|f__Actinomycetaceae|g__Actinomyces|s__Actinomyces_odontolyticus  \\\n",
       "0                                                0.0                                                                                    \n",
       "1                                                0.0                                                                                    \n",
       "2                                                0.0                                                                                    \n",
       "3                                                0.0                                                                                    \n",
       "4                                                0.0                                                                                    \n",
       "\n",
       "   k__Bacteria|p__Actinobacteria|c__Actinobacteria|o__Actinomycetales|f__Actinomycetaceae|g__Actinomyces|s__Actinomyces_turicensis  \\\n",
       "0                                                0.0                                                                                 \n",
       "1                                                0.0                                                                                 \n",
       "2                                                0.0                                                                                 \n",
       "3                                                0.0                                                                                 \n",
       "4                                                0.0                                                                                 \n",
       "\n",
       "   k__Bacteria|p__Actinobacteria|c__Actinobacteria|o__Actinomycetales|f__Actinomycetaceae|g__Varibaculum|s__Varibaculum_cambriense  \\\n",
       "0                                                0.0                                                                                 \n",
       "1                                                0.0                                                                                 \n",
       "2                                                0.0                                                                                 \n",
       "3                                                0.0                                                                                 \n",
       "4                                                0.0                                                                                 \n",
       "\n",
       "   k__Bacteria|p__Actinobacteria|c__Actinobacteria|o__Actinomycetales|f__Micrococcaceae|g__Rothia|s__Rothia_mucilaginosa  \\\n",
       "0                                            0.00000                                                                       \n",
       "1                                            0.00000                                                                       \n",
       "2                                            0.01254                                                                       \n",
       "3                                            0.02847                                                                       \n",
       "4                                            0.02221                                                                       \n",
       "\n",
       "   ...  \\\n",
       "0  ...   \n",
       "1  ...   \n",
       "2  ...   \n",
       "3  ...   \n",
       "4  ...   \n",
       "\n",
       "   k__Bacteria|p__Proteobacteria|c__Gammaproteobacteria|o__Oceanospirillales|f__Halomonadaceae|g__Halomonas|s__Halomonas_boliviensis  \\\n",
       "0                                                0.0                                                                                   \n",
       "1                                                0.0                                                                                   \n",
       "2                                                0.0                                                                                   \n",
       "3                                                0.0                                                                                   \n",
       "4                                                0.0                                                                                   \n",
       "\n",
       "   k__Bacteria|p__Proteobacteria|c__Gammaproteobacteria|o__Vibrionales|f__Vibrionaceae|g__Vibrio|s__Vibrio_kanaloae  \\\n",
       "0                                                0.0                                                                  \n",
       "1                                                0.0                                                                  \n",
       "2                                                0.0                                                                  \n",
       "3                                                0.0                                                                  \n",
       "4                                                0.0                                                                  \n",
       "\n",
       "   k__Bacteria|p__Proteobacteria|c__Gammaproteobacteria|o__Xanthomonadales|f__Xanthomonadaceae|g__Xanthomonas|s__Xanthomonas_axonopodis  \\\n",
       "0                                                0.0                                                                                      \n",
       "1                                                0.0                                                                                      \n",
       "2                                                0.0                                                                                      \n",
       "3                                                0.0                                                                                      \n",
       "4                                                0.0                                                                                      \n",
       "\n",
       "   k__Bacteria|p__Proteobacteria|c__Gammaproteobacteria|o__Xanthomonadales|f__Xanthomonadaceae|g__Xanthomonas|s__Xanthomonas_fuscans  \\\n",
       "0                                                0.0                                                                                   \n",
       "1                                                0.0                                                                                   \n",
       "2                                                0.0                                                                                   \n",
       "3                                                0.0                                                                                   \n",
       "4                                                0.0                                                                                   \n",
       "\n",
       "   k__Bacteria|p__Tenericutes|c__Mollicutes|o__Mycoplasmatales|f__Mycoplasmataceae|g__Mycoplasma|s__Mycoplasma_bovis  \\\n",
       "0                                                0.0                                                                   \n",
       "1                                                0.0                                                                   \n",
       "2                                                0.0                                                                   \n",
       "3                                                0.0                                                                   \n",
       "4                                                0.0                                                                   \n",
       "\n",
       "   k__Bacteria|p__Bacteroidetes|c__Flavobacteriia|o__Flavobacteriales|f__Flavobacteriaceae|g__Zunongwangia|s__Zunongwangia_profunda  \\\n",
       "0                                                0.0                                                                                  \n",
       "1                                                0.0                                                                                  \n",
       "2                                                0.0                                                                                  \n",
       "3                                                0.0                                                                                  \n",
       "4                                                0.0                                                                                  \n",
       "\n",
       "   k__Bacteria|p__Firmicutes|c__Bacilli|o__Lactobacillales|f__Enterococcaceae|g__Enterococcus|s__Enterococcus_pallens  \\\n",
       "0                                                0.0                                                                    \n",
       "1                                                0.0                                                                    \n",
       "2                                                0.0                                                                    \n",
       "3                                                0.0                                                                    \n",
       "4                                                0.0                                                                    \n",
       "\n",
       "   k__Bacteria|p__Planctomycetes|c__Planctomycetia|o__Planctomycetales|f__Planctomycetaceae|g__Rhodopirellula|s__Rhodopirellula_unclassified  \\\n",
       "0                                                0.0                                                                                           \n",
       "1                                                0.0                                                                                           \n",
       "2                                                0.0                                                                                           \n",
       "3                                                0.0                                                                                           \n",
       "4                                                0.0                                                                                           \n",
       "\n",
       "   k__Bacteria|p__Proteobacteria|c__Gammaproteobacteria|o__Vibrionales|f__Vibrionaceae|g__Vibrio|s__Vibrio_furnissii  \\\n",
       "0                                                0.0                                                                   \n",
       "1                                                0.0                                                                   \n",
       "2                                                0.0                                                                   \n",
       "3                                                0.0                                                                   \n",
       "4                                                0.0                                                                   \n",
       "\n",
       "   Class  \n",
       "0      n  \n",
       "1      n  \n",
       "2      n  \n",
       "3      n  \n",
       "4      n  \n",
       "\n",
       "[5 rows x 574 columns]"
      ]
     },
     "execution_count": 2,
     "metadata": {},
     "output_type": "execute_result"
    }
   ],
   "source": [
    "df= pd.read_csv('T2D_abundance.csv',sep='\\t') #,skiprows=[0], header = None)\n",
    "#Gist of the dataset\n",
    "df.head()"
   ]
  },
  {
   "cell_type": "code",
   "execution_count": 126,
   "id": "2fc137e2",
   "metadata": {},
   "outputs": [
    {
     "data": {
      "text/plain": [
       "(344, 574)"
      ]
     },
     "execution_count": 126,
     "metadata": {},
     "output_type": "execute_result"
    }
   ],
   "source": [
    "#Shape of the data frame\n",
    "df.shape"
   ]
  },
  {
   "cell_type": "markdown",
   "id": "ebdd80cc",
   "metadata": {},
   "source": [
    "## PCA"
   ]
  },
  {
   "cell_type": "code",
   "execution_count": 127,
   "id": "ef7744da",
   "metadata": {},
   "outputs": [
    {
     "data": {
      "text/plain": [
       "0      n\n",
       "1      n\n",
       "2      n\n",
       "3      n\n",
       "4      n\n",
       "      ..\n",
       "339    n\n",
       "340    n\n",
       "341    n\n",
       "342    n\n",
       "343    n\n",
       "Name: Class, Length: 344, dtype: object"
      ]
     },
     "execution_count": 127,
     "metadata": {},
     "output_type": "execute_result"
    }
   ],
   "source": [
    "y= df[\"Class\"]\n",
    "y"
   ]
  },
  {
   "cell_type": "code",
   "execution_count": 130,
   "id": "57a42c4e",
   "metadata": {},
   "outputs": [
    {
     "data": {
      "text/plain": [
       "(344, 572)"
      ]
     },
     "execution_count": 130,
     "metadata": {},
     "output_type": "execute_result"
    }
   ],
   "source": [
    "#Removing the non numberic values from the data frame as they cannot be used for PCA\n",
    "df1= df._get_numeric_data()\n",
    "#df1= df\n",
    "df1.shape"
   ]
  },
  {
   "cell_type": "code",
   "execution_count": 32,
   "id": "3019278e",
   "metadata": {},
   "outputs": [],
   "source": [
    "# Fitting the dataset\n",
    "x_pca= PCA(n_components=2)\n",
    "x1_pca1= x_pca.fit_transform(df1)"
   ]
  },
  {
   "cell_type": "code",
   "execution_count": 33,
   "id": "c60983e1",
   "metadata": {},
   "outputs": [
    {
     "data": {
      "text/plain": [
       "0      n\n",
       "1      n\n",
       "2      n\n",
       "3      n\n",
       "4      n\n",
       "      ..\n",
       "339    n\n",
       "340    n\n",
       "341    n\n",
       "342    n\n",
       "343    n\n",
       "Name: Class, Length: 344, dtype: object"
      ]
     },
     "execution_count": 33,
     "metadata": {},
     "output_type": "execute_result"
    }
   ],
   "source": [
    "y= df[\"Class\"]\n",
    "y"
   ]
  },
  {
   "cell_type": "code",
   "execution_count": 34,
   "id": "6a03f966",
   "metadata": {},
   "outputs": [
    {
     "data": {
      "text/html": [
       "<div>\n",
       "<style scoped>\n",
       "    .dataframe tbody tr th:only-of-type {\n",
       "        vertical-align: middle;\n",
       "    }\n",
       "\n",
       "    .dataframe tbody tr th {\n",
       "        vertical-align: top;\n",
       "    }\n",
       "\n",
       "    .dataframe thead th {\n",
       "        text-align: right;\n",
       "    }\n",
       "</style>\n",
       "<table border=\"1\" class=\"dataframe\">\n",
       "  <thead>\n",
       "    <tr style=\"text-align: right;\">\n",
       "      <th></th>\n",
       "      <th>PC1</th>\n",
       "      <th>PC2</th>\n",
       "    </tr>\n",
       "  </thead>\n",
       "  <tbody>\n",
       "    <tr>\n",
       "      <th>0</th>\n",
       "      <td>-2.943049</td>\n",
       "      <td>-2.248075</td>\n",
       "    </tr>\n",
       "    <tr>\n",
       "      <th>1</th>\n",
       "      <td>-7.215752</td>\n",
       "      <td>1.835619</td>\n",
       "    </tr>\n",
       "    <tr>\n",
       "      <th>2</th>\n",
       "      <td>24.051681</td>\n",
       "      <td>-4.850957</td>\n",
       "    </tr>\n",
       "    <tr>\n",
       "      <th>3</th>\n",
       "      <td>-8.684207</td>\n",
       "      <td>6.431783</td>\n",
       "    </tr>\n",
       "    <tr>\n",
       "      <th>4</th>\n",
       "      <td>2.565706</td>\n",
       "      <td>-3.969467</td>\n",
       "    </tr>\n",
       "  </tbody>\n",
       "</table>\n",
       "</div>"
      ],
      "text/plain": [
       "         PC1       PC2\n",
       "0  -2.943049 -2.248075\n",
       "1  -7.215752  1.835619\n",
       "2  24.051681 -4.850957\n",
       "3  -8.684207  6.431783\n",
       "4   2.565706 -3.969467"
      ]
     },
     "execution_count": 34,
     "metadata": {},
     "output_type": "execute_result"
    }
   ],
   "source": [
    "# PC1 and PC2 \n",
    "x2_pca = pd.DataFrame(data = x1_pca,columns=[\"PC1\",\"PC2\"])\n",
    "x2_pca.set_index(df1.index, inplace=True)\n",
    "x2_pca.head()"
   ]
  },
  {
   "cell_type": "code",
   "execution_count": 35,
   "id": "ec65bcd3",
   "metadata": {},
   "outputs": [
    {
     "data": {
      "text/plain": [
       "0      n\n",
       "1      n\n",
       "2      n\n",
       "3      n\n",
       "4      n\n",
       "      ..\n",
       "339    n\n",
       "340    n\n",
       "341    n\n",
       "342    n\n",
       "343    n\n",
       "Name: Class, Length: 344, dtype: object"
      ]
     },
     "execution_count": 35,
     "metadata": {},
     "output_type": "execute_result"
    }
   ],
   "source": [
    "y= df[\"Class\"]\n",
    "y"
   ]
  },
  {
   "cell_type": "code",
   "execution_count": 36,
   "id": "87b57c88",
   "metadata": {},
   "outputs": [
    {
     "data": {
      "text/html": [
       "<div>\n",
       "<style scoped>\n",
       "    .dataframe tbody tr th:only-of-type {\n",
       "        vertical-align: middle;\n",
       "    }\n",
       "\n",
       "    .dataframe tbody tr th {\n",
       "        vertical-align: top;\n",
       "    }\n",
       "\n",
       "    .dataframe thead th {\n",
       "        text-align: right;\n",
       "    }\n",
       "</style>\n",
       "<table border=\"1\" class=\"dataframe\">\n",
       "  <thead>\n",
       "    <tr style=\"text-align: right;\">\n",
       "      <th></th>\n",
       "      <th>PC1</th>\n",
       "      <th>PC2</th>\n",
       "      <th>Class</th>\n",
       "    </tr>\n",
       "  </thead>\n",
       "  <tbody>\n",
       "    <tr>\n",
       "      <th>0</th>\n",
       "      <td>-2.943049</td>\n",
       "      <td>-2.248075</td>\n",
       "      <td>n</td>\n",
       "    </tr>\n",
       "    <tr>\n",
       "      <th>1</th>\n",
       "      <td>-7.215752</td>\n",
       "      <td>1.835619</td>\n",
       "      <td>n</td>\n",
       "    </tr>\n",
       "    <tr>\n",
       "      <th>2</th>\n",
       "      <td>24.051681</td>\n",
       "      <td>-4.850957</td>\n",
       "      <td>n</td>\n",
       "    </tr>\n",
       "    <tr>\n",
       "      <th>3</th>\n",
       "      <td>-8.684207</td>\n",
       "      <td>6.431783</td>\n",
       "      <td>n</td>\n",
       "    </tr>\n",
       "    <tr>\n",
       "      <th>4</th>\n",
       "      <td>2.565706</td>\n",
       "      <td>-3.969467</td>\n",
       "      <td>n</td>\n",
       "    </tr>\n",
       "  </tbody>\n",
       "</table>\n",
       "</div>"
      ],
      "text/plain": [
       "         PC1       PC2 Class\n",
       "0  -2.943049 -2.248075     n\n",
       "1  -7.215752  1.835619     n\n",
       "2  24.051681 -4.850957     n\n",
       "3  -8.684207  6.431783     n\n",
       "4   2.565706 -3.969467     n"
      ]
     },
     "execution_count": 36,
     "metadata": {},
     "output_type": "execute_result"
    }
   ],
   "source": [
    "# PCA projections to 2D\n",
    "pca = pd.concat([x2_pca, y], axis=1)\n",
    "pca.head()"
   ]
  },
  {
   "cell_type": "code",
   "execution_count": 29,
   "id": "ea6bcd5c",
   "metadata": {
    "scrolled": true
   },
   "outputs": [
    {
     "data": {
      "text/plain": [
       "<AxesSubplot:xlabel='PC1', ylabel='PC2'>"
      ]
     },
     "execution_count": 29,
     "metadata": {},
     "output_type": "execute_result"
    },
    {
     "data": {
      "image/png": "[encoded data removed]",
      "text/plain": [
       "<Figure size 720x720 with 1 Axes>"
      ]
     },
     "metadata": {
      "needs_background": "light"
     },
     "output_type": "display_data"
    }
   ],
   "source": [
    "# Visualizing 2D projection\n",
    "import seaborn as sns\n",
    "plt.figure(figsize=(10,10))\n",
    "sns.scatterplot(x = pca['PC1'], y = pca['PC2'],hue = pca['Class'])"
   ]
  },
  {
   "cell_type": "code",
   "execution_count": 56,
   "id": "dbf0195b",
   "metadata": {},
   "outputs": [
    {
     "data": {
      "image/png": "[encoded data removed]",
      "text/plain": [
       "<Figure size 432x288 with 1 Axes>"
      ]
     },
     "metadata": {
      "needs_background": "light"
     },
     "output_type": "display_data"
    }
   ],
   "source": [
    "plt.plot(np.cumsum(x_pca.explained_variance_/np.sum(x_pca.explained_variance_)\n",
    "),linewidth=2)\n",
    "plt.title('Variance when components = 2')\n",
    "plt.xlabel('n_components')\n",
    "plt.ylabel('cummulative')\n",
    "plt.show()"
   ]
  },
  {
   "cell_type": "code",
   "execution_count": 39,
   "id": "3e344f8c",
   "metadata": {},
   "outputs": [
    {
     "name": "stdout",
     "output_type": "stream",
     "text": [
      "[0.29922075 0.06936047]\n"
     ]
    }
   ],
   "source": [
    "#explained variance\n",
    "print(x_pca.explained_variance_ratio_)"
   ]
  },
  {
   "cell_type": "code",
   "execution_count": 55,
   "id": "3b9b2935",
   "metadata": {},
   "outputs": [
    {
     "name": "stdout",
     "output_type": "stream",
     "text": [
      "[331.92461611  76.94134177]\n"
     ]
    }
   ],
   "source": [
    "print(x_pca.explained_variance_)"
   ]
  },
  {
   "cell_type": "code",
   "execution_count": 62,
   "id": "95551057",
   "metadata": {},
   "outputs": [
    {
     "data": {
      "image/png": "[encoded data removed]",
      "text/plain": [
       "<Figure size 432x288 with 1 Axes>"
      ]
     },
     "metadata": {
      "needs_background": "light"
     },
     "output_type": "display_data"
    }
   ],
   "source": [
    "x_pca.n_components= 344\n",
    "plt.plot(np.cumsum(x_pca.explained_variance_/np.sum(x_pca.explained_variance_)),linewidth=2)\n",
    "plt.title('Variance when components = 344 ')\n",
    "plt.xlabel('n_components')\n",
    "plt.ylabel('cummulative')\n",
    "plt.show()"
   ]
  },
  {
   "cell_type": "code",
   "execution_count": 65,
   "id": "0bcc70f1",
   "metadata": {},
   "outputs": [
    {
     "name": "stdout",
     "output_type": "stream",
     "text": [
      "[[-1.45387205e-03 -1.89665169e-04  4.97933858e-05 ... -3.79143784e-07\n",
      "  -1.86210369e-07 -5.46973983e-07]\n",
      " [-6.42176068e-03 -8.39768721e-04 -3.88205894e-04 ... -1.65254916e-06\n",
      "  -6.13770431e-07 -9.33181167e-07]\n",
      " [ 1.13247306e-03  3.64209361e-04  2.59161428e-05 ...  1.32202426e-06\n",
      "   6.91208891e-07 -1.21258990e-06]\n",
      " ...\n",
      " [-2.66744931e-03  9.40763624e-03 -1.18726976e-02 ...  4.87262702e-03\n",
      "   3.41736713e-03 -2.51149117e-03]\n",
      " [ 2.66285826e-05 -9.57333697e-03  1.85697297e-03 ... -9.82471312e-03\n",
      "  -4.74348714e-03 -4.88389824e-03]\n",
      " [-8.09077197e-03 -9.05144208e-04 -4.56536513e-03 ...  5.08789815e-04\n",
      "   1.32966779e-03 -1.55313621e-03]]\n"
     ]
    }
   ],
   "source": [
    "print(x_pca.components_)"
   ]
  },
  {
   "cell_type": "code",
   "execution_count": 66,
   "id": "497423e6",
   "metadata": {},
   "outputs": [
    {
     "name": "stdout",
     "output_type": "stream",
     "text": [
      "[3.31924616e+02 7.69413444e+01 6.46193472e+01 5.33341404e+01\n",
      " 4.63412945e+01 4.09333140e+01 3.75588563e+01 3.21123216e+01\n",
      " 3.10887098e+01 2.83366323e+01 2.54109323e+01 2.36484286e+01\n",
      " 2.02857442e+01 1.89447548e+01 1.74123483e+01 1.70233997e+01\n",
      " 1.53734167e+01 1.48155597e+01 1.40718664e+01 1.33507017e+01\n",
      " 1.24368163e+01 1.14701726e+01 1.03101573e+01 9.39439102e+00\n",
      " 9.26534984e+00 8.91644524e+00 7.88619930e+00 7.59501626e+00\n",
      " 6.84246470e+00 6.34681689e+00 6.22408943e+00 5.24339783e+00\n",
      " 4.82571680e+00 4.40896382e+00 4.31557049e+00 3.89528077e+00\n",
      " 3.81729106e+00 3.58396570e+00 3.40256569e+00 3.04147874e+00\n",
      " 2.87152961e+00 2.71562477e+00 2.50167168e+00 2.28516785e+00\n",
      " 2.19064734e+00 2.06887069e+00 1.87655470e+00 1.75821379e+00\n",
      " 1.72497195e+00 1.63462169e+00 1.51578455e+00 1.44249288e+00\n",
      " 1.35039348e+00 1.28098256e+00 1.25814261e+00 1.18702634e+00\n",
      " 1.09934739e+00 1.07677771e+00 1.06147930e+00 1.02314536e+00\n",
      " 9.18249955e-01 8.77875795e-01 8.37389509e-01 8.16398087e-01\n",
      " 7.52889988e-01 7.27264414e-01 7.00523404e-01 6.56928221e-01\n",
      " 5.85919345e-01 5.77230556e-01 5.53650014e-01 5.15636768e-01\n",
      " 4.92617442e-01 4.84020805e-01 4.72059508e-01 4.22998088e-01\n",
      " 3.85349359e-01 3.71399468e-01 3.44915761e-01 3.33522378e-01\n",
      " 3.18459007e-01 2.94638062e-01 2.85814562e-01 2.81831870e-01\n",
      " 2.63306051e-01 2.51801668e-01 2.40090632e-01 2.32631118e-01\n",
      " 2.16272026e-01 2.04120197e-01 1.94957389e-01 1.83279239e-01\n",
      " 1.76010352e-01 1.61822112e-01 1.58932781e-01 1.52478876e-01\n",
      " 1.50205303e-01 1.42774664e-01 1.33772118e-01 1.27461125e-01\n",
      " 1.23993668e-01 1.16362086e-01 1.11021555e-01 1.01705755e-01\n",
      " 9.74583753e-02 9.41228683e-02 9.02998430e-02 8.73815322e-02\n",
      " 8.71895775e-02 8.14235348e-02 7.81446547e-02 7.50350026e-02\n",
      " 7.28187226e-02 6.90729918e-02 6.53760142e-02 6.51340081e-02\n",
      " 5.92268496e-02 5.83559857e-02 5.61284553e-02 5.39343929e-02\n",
      " 5.14484483e-02 4.99984096e-02 4.59694358e-02 4.31492319e-02\n",
      " 4.22307766e-02 4.06536412e-02 3.92992793e-02 3.67088176e-02\n",
      " 3.59226190e-02 3.34241188e-02 3.16769567e-02 2.99496740e-02\n",
      " 2.78681523e-02 2.72805464e-02 2.56718041e-02 2.44883503e-02\n",
      " 2.30912680e-02 2.22056265e-02 2.03170467e-02 1.84972349e-02\n",
      " 1.81287023e-02 1.64654990e-02 1.53826351e-02 1.43294756e-02\n",
      " 1.38469688e-02 1.25882227e-02 1.19297344e-02 1.11151583e-02\n",
      " 1.02345829e-02 9.84240334e-03 8.67093558e-03 7.84525745e-03\n",
      " 7.51222836e-03 6.80161011e-03 6.62020315e-03 6.49446408e-03\n",
      " 6.11308406e-03 5.67503626e-03 5.65924454e-03 5.35200449e-03\n",
      " 5.25445576e-03 5.01255675e-03 4.76990027e-03 4.57216310e-03\n",
      " 4.26322748e-03 4.13641380e-03 3.96963287e-03 3.75736862e-03\n",
      " 3.62780638e-03 3.35413028e-03 3.22723842e-03 3.13652753e-03\n",
      " 2.97596132e-03 2.91454560e-03 2.82701183e-03 2.79476799e-03\n",
      " 2.71694103e-03 2.53962730e-03 2.44655652e-03 2.28305941e-03\n",
      " 2.15637980e-03 1.93814614e-03 1.84804602e-03 1.66298516e-03\n",
      " 1.58006934e-03 1.52187767e-03 1.49452061e-03 1.44441875e-03\n",
      " 1.35696895e-03 1.29762908e-03 1.22943298e-03 1.18045014e-03\n",
      " 1.12429723e-03 1.04245192e-03 9.72584765e-04 9.44405878e-04\n",
      " 9.24348685e-04 8.99333987e-04 8.72160745e-04 8.19620941e-04\n",
      " 7.76103264e-04 7.21261013e-04 6.93672173e-04 6.65777602e-04\n",
      " 6.56629747e-04 6.34691132e-04 5.69407047e-04 5.16045912e-04\n",
      " 4.87381506e-04 4.78106661e-04 4.59162858e-04 4.43105602e-04\n",
      " 4.17401383e-04 3.89986711e-04 3.61183811e-04 3.47837281e-04\n",
      " 3.39011686e-04 3.01405841e-04 2.81694572e-04 2.68479311e-04\n",
      " 2.56413684e-04 2.46442325e-04 2.22955164e-04 2.16435069e-04\n",
      " 2.02865099e-04 1.91041987e-04 1.85225841e-04 1.69746473e-04\n",
      " 1.64621326e-04 1.54829513e-04 1.50465510e-04 1.46922630e-04\n",
      " 1.36351984e-04 1.30660970e-04 1.27570645e-04 1.20460163e-04\n",
      " 1.07147674e-04 9.98893129e-05 9.36247315e-05 9.04451272e-05\n",
      " 8.55362015e-05 7.71131760e-05 7.29173237e-05 7.12886599e-05\n",
      " 6.81020106e-05 6.25718810e-05 5.91548811e-05 5.64778365e-05\n",
      " 5.31076798e-05 5.09728947e-05 4.77741189e-05 4.62909266e-05\n",
      " 4.21924919e-05 3.88423788e-05 3.65107366e-05 3.55067796e-05\n",
      " 3.48709015e-05 3.28449495e-05 2.87712862e-05 2.75826202e-05\n",
      " 2.56208503e-05 2.40960947e-05 2.17764727e-05 2.04158419e-05\n",
      " 1.91390010e-05 1.84276433e-05 1.77066774e-05 1.63578595e-05\n",
      " 1.52661451e-05 1.43983845e-05 1.36762011e-05 1.23455487e-05\n",
      " 1.19780525e-05 1.08915349e-05 1.02796187e-05 9.41403270e-06\n",
      " 8.47595644e-06 7.90432411e-06 7.34333142e-06 6.74278459e-06\n",
      " 6.49642401e-06 6.24079848e-06 5.96428078e-06 5.77836139e-06\n",
      " 5.18507214e-06 4.81560158e-06 4.77418038e-06 4.32717687e-06\n",
      " 4.13652726e-06 3.62779776e-06 3.23752368e-06 3.04054749e-06\n",
      " 2.85488634e-06 2.71212926e-06 2.66261291e-06 2.26613021e-06\n",
      " 2.18071569e-06 1.99743049e-06 1.97183709e-06 1.92204594e-06\n",
      " 1.83412782e-06 1.64103362e-06 1.55488343e-06 1.38971013e-06\n",
      " 1.25647842e-06 1.19965605e-06 1.11896194e-06 1.09456478e-06\n",
      " 1.04662997e-06 1.01837285e-06 8.75496358e-07 8.00677021e-07\n",
      " 6.69448733e-07 6.38377620e-07 5.58411135e-07 5.55807224e-07\n",
      " 5.03299157e-07 4.67552035e-07 3.93149488e-07 3.71353965e-07\n",
      " 3.56714456e-07 3.35153071e-07 3.03961509e-07 2.72648388e-07\n",
      " 2.31980323e-07 2.19545776e-07 1.89511511e-07 1.85690016e-07\n",
      " 1.79930486e-07 1.61482119e-07 1.54494027e-07 1.45820077e-07\n",
      " 1.33485419e-07 1.06406166e-07 9.47494410e-08 8.77761473e-08\n",
      " 7.76389142e-08 6.79030462e-08 6.23367543e-08 4.86583630e-08\n",
      " 4.36860384e-08 2.97050136e-08 2.08606164e-08 1.55536767e-30]\n"
     ]
    }
   ],
   "source": [
    "print(x_pca.explained_variance_)"
   ]
  },
  {
   "cell_type": "code",
   "execution_count": 67,
   "id": "3e72f365",
   "metadata": {},
   "outputs": [
    {
     "name": "stdout",
     "output_type": "stream",
     "text": [
      "[2.99220746e-01 6.93604674e-02 5.82525319e-02 4.80792340e-02\n",
      " 4.17753792e-02 3.69002362e-02 3.38582571e-02 2.89483586e-02\n",
      " 2.80256013e-02 2.55446805e-02 2.29072438e-02 2.13183961e-02\n",
      " 1.82870304e-02 1.70781659e-02 1.56967444e-02 1.53461181e-02\n",
      " 1.38587046e-02 1.33558122e-02 1.26853935e-02 1.20352837e-02\n",
      " 1.12114416e-02 1.03400394e-02 9.29431805e-03 8.46878042e-03\n",
      " 8.35245341e-03 8.03792569e-03 7.10918782e-03 6.84669447e-03\n",
      " 6.16829031e-03 5.72147769e-03 5.61084232e-03 4.72677631e-03\n",
      " 4.35024856e-03 3.97455742e-03 3.89036594e-03 3.51148653e-03\n",
      " 3.44118099e-03 3.23084471e-03 3.06731769e-03 2.74180791e-03\n",
      " 2.58860353e-03 2.44805968e-03 2.25518696e-03 2.06001482e-03\n",
      " 1.97480723e-03 1.86502899e-03 1.69166152e-03 1.58498049e-03\n",
      " 1.55501390e-03 1.47356568e-03 1.36643733e-03 1.30036694e-03\n",
      " 1.21734190e-03 1.15476991e-03 1.13418033e-03 1.07007100e-03\n",
      " 9.91030886e-04 9.70684948e-04 9.56893866e-04 9.22336894e-04\n",
      " 8.27776620e-04 7.91380445e-04 7.54883192e-04 7.35960013e-04\n",
      " 6.78709241e-04 6.55608503e-04 6.31502231e-04 5.92202395e-04\n",
      " 5.28189881e-04 5.20357181e-04 4.99099983e-04 4.64832107e-04\n",
      " 4.44080829e-04 4.36331201e-04 4.25548427e-04 3.81320930e-04\n",
      " 3.47381656e-04 3.34806220e-04 3.10931899e-04 3.00661084e-04\n",
      " 2.87081877e-04 2.65607961e-04 2.57653824e-04 2.54063538e-04\n",
      " 2.37363031e-04 2.26992152e-04 2.16434981e-04 2.09710439e-04\n",
      " 1.94963175e-04 1.84008641e-04 1.75748627e-04 1.65221101e-04\n",
      " 1.58668403e-04 1.45878102e-04 1.43273452e-04 1.37455436e-04\n",
      " 1.35405875e-04 1.28707362e-04 1.20591819e-04 1.14902634e-04\n",
      " 1.11776819e-04 1.04897162e-04 1.00082823e-04 9.16848897e-05\n",
      " 8.78559961e-05 8.48491300e-05 8.14027797e-05 7.87720042e-05\n",
      " 7.85989625e-05 7.34010365e-05 7.04452179e-05 6.76419536e-05\n",
      " 6.56440392e-05 6.22673678e-05 5.89346460e-05 5.87164842e-05\n",
      " 5.33913463e-05 5.26062869e-05 5.05982307e-05 4.86203448e-05\n",
      " 4.63793354e-05 4.50721661e-05 4.14401591e-05 3.88978242e-05\n",
      " 3.80698625e-05 3.66481191e-05 3.54271997e-05 3.30919711e-05\n",
      " 3.23832351e-05 3.01309071e-05 2.85558894e-05 2.69987924e-05\n",
      " 2.51223589e-05 2.45926486e-05 2.31424125e-05 2.20755620e-05\n",
      " 2.08161314e-05 2.00177505e-05 1.83152486e-05 1.66747392e-05\n",
      " 1.63425175e-05 1.48431862e-05 1.38670147e-05 1.29176210e-05\n",
      " 1.24826546e-05 1.13479302e-05 1.07543215e-05 1.00200040e-05\n",
      " 9.22618992e-06 8.87265099e-06 7.81660560e-06 7.07227989e-06\n",
      " 6.77206350e-06 6.13146104e-06 5.96792775e-06 5.85457750e-06\n",
      " 5.51077409e-06 5.11588626e-06 5.10165047e-06 4.82468217e-06\n",
      " 4.73674472e-06 4.51867954e-06 4.29993152e-06 4.12167699e-06\n",
      " 3.84318019e-06 3.72886120e-06 3.57851287e-06 3.38716259e-06\n",
      " 3.27036586e-06 3.02365452e-06 2.90926506e-06 2.82749173e-06\n",
      " 2.68274579e-06 2.62738124e-06 2.54847200e-06 2.51940508e-06\n",
      " 2.44924625e-06 2.28940289e-06 2.20550219e-06 2.05811412e-06\n",
      " 1.94391600e-06 1.74718447e-06 1.66596173e-06 1.49913455e-06\n",
      " 1.42438826e-06 1.37193010e-06 1.34726847e-06 1.30210305e-06\n",
      " 1.22326951e-06 1.16977628e-06 1.10829940e-06 1.06414274e-06\n",
      " 1.01352247e-06 9.39741209e-07 8.76757929e-07 8.51355452e-07\n",
      " 8.33274454e-07 8.10724404e-07 7.86228488e-07 7.38865325e-07\n",
      " 6.99635358e-07 6.50196605e-07 6.25326039e-07 6.00179863e-07\n",
      " 5.91933329e-07 5.72156282e-07 5.13304507e-07 4.65200938e-07\n",
      " 4.39360779e-07 4.30999766e-07 4.13922458e-07 3.99447292e-07\n",
      " 3.76275657e-07 3.51562099e-07 3.25597091e-07 3.13565568e-07\n",
      " 3.05609541e-07 2.71708925e-07 2.53939768e-07 2.42026581e-07\n",
      " 2.31149756e-07 2.22160855e-07 2.00987837e-07 1.95110154e-07\n",
      " 1.82877205e-07 1.72219002e-07 1.66975909e-07 1.53021692e-07\n",
      " 1.48401515e-07 1.39574470e-07 1.35640443e-07 1.32446637e-07\n",
      " 1.22917495e-07 1.17787205e-07 1.15001364e-07 1.08591463e-07\n",
      " 9.65906276e-08 9.00474183e-08 8.44000736e-08 8.15337493e-08\n",
      " 7.71084903e-08 6.95153687e-08 6.57329253e-08 6.42647305e-08\n",
      " 6.13920555e-08 5.64067985e-08 5.33264688e-08 5.09131880e-08\n",
      " 4.78750861e-08 4.59506371e-08 4.30670304e-08 4.17299740e-08\n",
      " 3.80353499e-08 3.50153168e-08 3.29134066e-08 3.20083675e-08\n",
      " 3.14351412e-08 2.96088022e-08 2.59365088e-08 2.48649597e-08\n",
      " 2.30964791e-08 2.17219546e-08 1.96308803e-08 1.84043097e-08\n",
      " 1.72532734e-08 1.66120043e-08 1.59620738e-08 1.47461523e-08\n",
      " 1.37620023e-08 1.29797404e-08 1.23287123e-08 1.11291665e-08\n",
      " 1.07978789e-08 9.81841369e-09 9.26678841e-09 8.48648684e-09\n",
      " 7.64083737e-09 7.12552683e-09 6.61980763e-09 6.07843148e-09\n",
      " 5.85634432e-09 5.62590506e-09 5.37663210e-09 5.20903098e-09\n",
      " 4.67419733e-09 4.34112997e-09 4.30378991e-09 3.90082877e-09\n",
      " 3.72896349e-09 3.27035808e-09 2.91853693e-09 2.74096842e-09\n",
      " 2.57360009e-09 2.44490858e-09 2.40027097e-09 2.04285293e-09\n",
      " 1.96585413e-09 1.80062765e-09 1.77755592e-09 1.73267059e-09\n",
      " 1.65341486e-09 1.47934586e-09 1.40168387e-09 1.25278476e-09\n",
      " 1.13268011e-09 1.08145633e-09 1.00871285e-09 9.86719494e-10\n",
      " 9.43507607e-10 9.18034609e-10 7.89235449e-10 7.21787913e-10\n",
      " 6.03489285e-10 5.75479548e-10 5.03392000e-10 5.01044647e-10\n",
      " 4.53710096e-10 4.21485066e-10 3.54413254e-10 3.34765200e-10\n",
      " 3.21568093e-10 3.02131108e-10 2.74012788e-10 2.45784886e-10\n",
      " 2.09123765e-10 1.97914369e-10 1.70839320e-10 1.67394349e-10\n",
      " 1.62202295e-10 1.45571608e-10 1.39272039e-10 1.31452716e-10\n",
      " 1.20333367e-10 9.59221792e-11 8.54139677e-11 7.91277387e-11\n",
      " 6.99893069e-11 6.12126946e-11 5.61948383e-11 4.38641517e-11\n",
      " 3.93817403e-11 2.67782379e-11 1.88052615e-11 1.40212039e-33]\n"
     ]
    }
   ],
   "source": [
    "print(x_pca.explained_variance_ratio_)"
   ]
  },
  {
   "cell_type": "markdown",
   "id": "10d97751",
   "metadata": {},
   "source": [
    "## TSNE"
   ]
  },
  {
   "cell_type": "code",
   "execution_count": 138,
   "id": "ff02794d",
   "metadata": {},
   "outputs": [],
   "source": [
    "from sklearn.manifold import TSNE"
   ]
  },
  {
   "cell_type": "code",
   "execution_count": 155,
   "id": "208751db",
   "metadata": {},
   "outputs": [],
   "source": [
    "tsne = TSNE(n_components=2).fit_transform(df1)\n",
    "tsne1 = pd.DataFrame(data = tsne, columns=[\"sne1\",\"sne2\"])"
   ]
  },
  {
   "cell_type": "code",
   "execution_count": 156,
   "id": "573051ef",
   "metadata": {},
   "outputs": [
    {
     "data": {
      "text/html": [
       "<div>\n",
       "<style scoped>\n",
       "    .dataframe tbody tr th:only-of-type {\n",
       "        vertical-align: middle;\n",
       "    }\n",
       "\n",
       "    .dataframe tbody tr th {\n",
       "        vertical-align: top;\n",
       "    }\n",
       "\n",
       "    .dataframe thead th {\n",
       "        text-align: right;\n",
       "    }\n",
       "</style>\n",
       "<table border=\"1\" class=\"dataframe\">\n",
       "  <thead>\n",
       "    <tr style=\"text-align: right;\">\n",
       "      <th></th>\n",
       "      <th>sne1</th>\n",
       "      <th>sne2</th>\n",
       "    </tr>\n",
       "  </thead>\n",
       "  <tbody>\n",
       "    <tr>\n",
       "      <th>0</th>\n",
       "      <td>-3.173052</td>\n",
       "      <td>4.686437</td>\n",
       "    </tr>\n",
       "    <tr>\n",
       "      <th>1</th>\n",
       "      <td>-6.180019</td>\n",
       "      <td>-5.785766</td>\n",
       "    </tr>\n",
       "    <tr>\n",
       "      <th>2</th>\n",
       "      <td>-14.387036</td>\n",
       "      <td>7.643217</td>\n",
       "    </tr>\n",
       "    <tr>\n",
       "      <th>3</th>\n",
       "      <td>1.577909</td>\n",
       "      <td>-4.824881</td>\n",
       "    </tr>\n",
       "    <tr>\n",
       "      <th>4</th>\n",
       "      <td>-7.564733</td>\n",
       "      <td>3.460900</td>\n",
       "    </tr>\n",
       "  </tbody>\n",
       "</table>\n",
       "</div>"
      ],
      "text/plain": [
       "        sne1      sne2\n",
       "0  -3.173052  4.686437\n",
       "1  -6.180019 -5.785766\n",
       "2 -14.387036  7.643217\n",
       "3   1.577909 -4.824881\n",
       "4  -7.564733  3.460900"
      ]
     },
     "execution_count": 156,
     "metadata": {},
     "output_type": "execute_result"
    }
   ],
   "source": [
    "#TSNE projections to 2D\n",
    "tsne1.set_index(df1.index, inplace=True)\n",
    "tsne1.head()"
   ]
  },
  {
   "cell_type": "code",
   "execution_count": 157,
   "id": "fa6320a7",
   "metadata": {},
   "outputs": [
    {
     "data": {
      "text/html": [
       "<div>\n",
       "<style scoped>\n",
       "    .dataframe tbody tr th:only-of-type {\n",
       "        vertical-align: middle;\n",
       "    }\n",
       "\n",
       "    .dataframe tbody tr th {\n",
       "        vertical-align: top;\n",
       "    }\n",
       "\n",
       "    .dataframe thead th {\n",
       "        text-align: right;\n",
       "    }\n",
       "</style>\n",
       "<table border=\"1\" class=\"dataframe\">\n",
       "  <thead>\n",
       "    <tr style=\"text-align: right;\">\n",
       "      <th></th>\n",
       "      <th>sne1</th>\n",
       "      <th>sne2</th>\n",
       "      <th>Class</th>\n",
       "    </tr>\n",
       "  </thead>\n",
       "  <tbody>\n",
       "    <tr>\n",
       "      <th>0</th>\n",
       "      <td>-3.173052</td>\n",
       "      <td>4.686437</td>\n",
       "      <td>n</td>\n",
       "    </tr>\n",
       "    <tr>\n",
       "      <th>1</th>\n",
       "      <td>-6.180019</td>\n",
       "      <td>-5.785766</td>\n",
       "      <td>n</td>\n",
       "    </tr>\n",
       "    <tr>\n",
       "      <th>2</th>\n",
       "      <td>-14.387036</td>\n",
       "      <td>7.643217</td>\n",
       "      <td>n</td>\n",
       "    </tr>\n",
       "    <tr>\n",
       "      <th>3</th>\n",
       "      <td>1.577909</td>\n",
       "      <td>-4.824881</td>\n",
       "      <td>n</td>\n",
       "    </tr>\n",
       "    <tr>\n",
       "      <th>4</th>\n",
       "      <td>-7.564733</td>\n",
       "      <td>3.460900</td>\n",
       "      <td>n</td>\n",
       "    </tr>\n",
       "  </tbody>\n",
       "</table>\n",
       "</div>"
      ],
      "text/plain": [
       "        sne1      sne2 Class\n",
       "0  -3.173052  4.686437     n\n",
       "1  -6.180019 -5.785766     n\n",
       "2 -14.387036  7.643217     n\n",
       "3   1.577909 -4.824881     n\n",
       "4  -7.564733  3.460900     n"
      ]
     },
     "execution_count": 157,
     "metadata": {},
     "output_type": "execute_result"
    }
   ],
   "source": [
    "tsne3 = pd.concat([tsne1, y], axis=1)\n",
    "tsne3.head()"
   ]
  },
  {
   "cell_type": "code",
   "execution_count": 158,
   "id": "e13ff08c",
   "metadata": {},
   "outputs": [
    {
     "data": {
      "text/plain": [
       "<AxesSubplot:xlabel='sne1', ylabel='sne2'>"
      ]
     },
     "execution_count": 158,
     "metadata": {},
     "output_type": "execute_result"
    },
    {
     "data": {
      "image/png": "[encoded data removed]",
      "text/plain": [
       "<Figure size 288x288 with 1 Axes>"
      ]
     },
     "metadata": {
      "needs_background": "light"
     },
     "output_type": "display_data"
    }
   ],
   "source": [
    "# Visualizing 2D projections:\n",
    "import seaborn as sns\n",
    "plt.figure(figsize=(4,4))\n",
    "sns.scatterplot(x = tsne3['sne1'], y = tsne3['sne2'],hue = tsne3['Class'])"
   ]
  },
  {
   "cell_type": "markdown",
   "id": "fe5143b4",
   "metadata": {},
   "source": [
    "## PCA analyses:\n",
    "    \n",
    "    - PCA is a technique for reducing dimensionality. The correlation between characteristics is found using PCA. The associated properties become independent of one another following PCA. The data starts overfitting when there are too many features in the dataset, but PCA helps prevent it by limiting the number of features. \n",
    "    \n",
    "    - From the graph, we can see that the variability is linear for two dimensions.\n",
    "    \n",
    "    - We can also see that when variance is high, data points are scattered and clusters are developed for PCA.\n",
    "    \n",
    "    - PCA is not an effective strategy for dimensionality reduction, in my opinion. It is clear from the scatter plot that it incorrectly identifies cases of n and t2d. Even though PCA aims to account for as much variance across the dataset's features as possible, it can still leave out some data when compared to the original features.\n",
    "    \n",
    "    - t-SNE is a result in a good dimensionality reduction of this dataset. The local and overall structure of the dataset is maintained via t-SNE. In t-SNE, the points that are comparable in high dimensions are also similar in low dimensions. t-SNE is also effective with both linear and non-linear data. It is clear from the scatterplot graph that the data is better visualized with t-SNE.\n",
    "    "
   ]
  },
  {
   "cell_type": "markdown",
   "id": "9207eed0",
   "metadata": {},
   "source": [
    "# Question 5:"
   ]
  },
  {
   "cell_type": "code",
   "execution_count": 170,
   "id": "5562a74c",
   "metadata": {},
   "outputs": [],
   "source": [
    "import matplotlib.pyplot as plt\n",
    "import math\n",
    "import numpy as np\n",
    "import os"
   ]
  },
  {
   "cell_type": "code",
   "execution_count": 173,
   "id": "ca6c5d8c",
   "metadata": {},
   "outputs": [],
   "source": [
    "dim = []\n",
    "for i in range(2,51):\n",
    "    x = np.random.randint(0,500, i)\n",
    "    y = np.random.randint(0,500, i)\n",
    "    # Calculating Euclidean Distance\n",
    "    dist = [np.linalg.norm(j-y) for j in x]\n",
    "    max_ = max(dist)\n",
    "    min_ = min(dist)\n",
    "    delta = math.log10(max_-min_)/max_\n",
    "    dim.append(delta)"
   ]
  },
  {
   "cell_type": "code",
   "execution_count": 174,
   "id": "a44d8ce7",
   "metadata": {},
   "outputs": [
    {
     "data": {
      "image/png": "[encoded data removed]",
      "text/plain": [
       "<Figure size 432x288 with 1 Axes>"
      ]
     },
     "metadata": {
      "needs_background": "light"
     },
     "output_type": "display_data"
    }
   ],
   "source": [
    "plt.plot(dim)\n",
    "plt.xlabel('No of dimensions')\n",
    "plt.ylabel('Euclidean Distance')\n",
    "plt.show()"
   ]
  },
  {
   "cell_type": "markdown",
   "id": "1a8222cd",
   "metadata": {},
   "source": [
    "## Curse of Dimensionality \n",
    "\n",
    "- The curse of dimensionality states that as the size of the dataset rises, the model's performance begins to fall rather than rise. \n",
    "- Here we are computing the Euclidean distance between points x and y whose values are random integers generated from 0 to 500. \n",
    "- This is carried out for various dimensions from 2 to 50. We can see that while there are fewer dimensions, the distance is greater, and as there are more dimensions, the Euclidean distance begins to decrease. This is really effectively illustrated in the graph. \n",
    "- This is the problem with dimensionality: it gets harder and harder to extract key information as the dimension increases."
   ]
  },
  {
   "cell_type": "code",
   "execution_count": null,
   "id": "66caba63",
   "metadata": {},
   "outputs": [],
   "source": []
  }
 ],
 "metadata": {
  "kernelspec": {
   "display_name": "Python 3 (ipykernel)",
   "language": "python",
   "name": "python3"
  },
  "language_info": {
   "codemirror_mode": {
    "name": "ipython",
    "version": 3
   },
   "file_extension": ".py",
   "mimetype": "text/x-python",
   "name": "python",
   "nbconvert_exporter": "python",
   "pygments_lexer": "ipython3",
   "version": "3.9.12"
  }
 },
 "nbformat": 4,
 "nbformat_minor": 5
}
