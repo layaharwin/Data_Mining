{
 "cells": [
  {
   "cell_type": "code",
   "execution_count": 23,
   "id": "cd491788",
   "metadata": {},
   "outputs": [],
   "source": [
    "# import necessay imports\n",
    "import numpy as np\n",
    "import numpy.linalg as linalg"
   ]
  },
  {
   "cell_type": "code",
   "execution_count": 41,
   "id": "0a8fbf16",
   "metadata": {},
   "outputs": [
    {
     "name": "stdout",
     "output_type": "stream",
     "text": [
      "Total Number of iteration taken for convergence:  11\n",
      "Corresponding Page Ranks of Pages:  [0.12252274 0.05981827 0.21025925 0.220047   0.1720047  0.21534805]\n"
     ]
    }
   ],
   "source": [
    "# we have considered colummn stochastic transition matrix\n",
    "Transition_Matrix = np.array([[0,1/4, 0, 0, 0, 1/2],\n",
    "            [1/2, 0, 0, 0, 0, 0],\n",
    "            [0, 1/4, 0, 0, 1/2, 1/2],\n",
    "            [0, 1/4, 1, 0, 0 , 0],\n",
    "            [1/2, 0, 0, 1/2, 0, 0],\n",
    "            [0, 1/4, 0, 1/2, 1/2, 0]])\n",
    "def Page_Rank(Transition_Matrix, rank_vector):\n",
    "    r_Previous = rank_vector\n",
    "    rank_vector = Transition_Matrix @ rank_vector\n",
    "    count = 0\n",
    "    # we keep iterating till linalg.norm(r_Previous - rank_vector) > 0.01  \n",
    "    # here threshold is 0.01 (epsilon) \n",
    "    # once inalg.norm(r_Previous - rank_vector) < 0.01 it has converged \n",
    "    while linalg.norm(r_Previous - rank_vector) > 0.01 :\n",
    "        r_Previous = rank_vector\n",
    "        rank_vector = Transition_Matrix @ rank_vector\n",
    "        count += 1\n",
    "    print(\"Total Number of iteration taken for convergence: \", count)\n",
    "    print('Corresponding Page Ranks of Pages: ', rank_vector)\n",
    "\n",
    "Page_Rank(Transition_Matrix, [0.2, 0.2, 0.2, 0.1, 0.1, 0.2])"
   ]
  },
  {
   "cell_type": "code",
   "execution_count": 42,
   "id": "313908c6",
   "metadata": {},
   "outputs": [
    {
     "name": "stdout",
     "output_type": "stream",
     "text": [
      "Total Number of iteration taken for convergence:  13\n",
      "Corresponding Page Ranks of Pages:  [0.12350025 0.06054549 0.21051283 0.22338929 0.170294   0.21175814]\n"
     ]
    }
   ],
   "source": [
    "Page_Rank(Transition_Matrix, [0.4, 0.1, 0.05, 0.05, 0.2, 0.2] )"
   ]
  },
  {
   "cell_type": "code",
   "execution_count": 44,
   "id": "d16a875d",
   "metadata": {},
   "outputs": [
    {
     "name": "stdout",
     "output_type": "stream",
     "text": [
      "Total Number of iteration taken for convergence:  14\n",
      "Corresponding Page Ranks of Pages:  [0.12276009 0.05974808 0.21062106 0.21998771 0.1716862  0.21519686]\n"
     ]
    }
   ],
   "source": [
    "Page_Rank(Transition_Matrix, [0.1, 0.3, 0.3, 0.1, 0.1, 0.1] )"
   ]
  },
  {
   "cell_type": "markdown",
   "id": "63aaca3e",
   "metadata": {},
   "source": [
    "### From the above examples, we can see that the page ranks of pages is having very small difference when changing the rank_vectors"
   ]
  },
  {
   "cell_type": "code",
   "execution_count": null,
   "id": "61cacddf",
   "metadata": {},
   "outputs": [],
   "source": []
  }
 ],
 "metadata": {
  "kernelspec": {
   "display_name": "Python 3 (ipykernel)",
   "language": "python",
   "name": "python3"
  },
  "language_info": {
   "codemirror_mode": {
    "name": "ipython",
    "version": 3
   },
   "file_extension": ".py",
   "mimetype": "text/x-python",
   "name": "python",
   "nbconvert_exporter": "python",
   "pygments_lexer": "ipython3",
   "version": "3.9.12"
  }
 },
 "nbformat": 4,
 "nbformat_minor": 5
}
